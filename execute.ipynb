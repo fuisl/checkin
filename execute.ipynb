{
 "cells": [
  {
   "cell_type": "code",
   "execution_count": 2,
   "metadata": {},
   "outputs": [],
   "source": [
    "import pandas as pd\n",
    "import numpy as np\n",
    "\n",
    "# Import generator\n",
    "from ticket.codegen import generate_ticket_code\n",
    "from ticket import qrgen, bargen"
   ]
  },
  {
   "cell_type": "code",
   "execution_count": 3,
   "metadata": {},
   "outputs": [],
   "source": [
    "# Customizable variable\n",
    "\n",
    "path_to_csv = \"./test/example_list.csv\"\n",
    "event_seed = \"prom-test\""
   ]
  },
  {
   "cell_type": "code",
   "execution_count": 4,
   "metadata": {},
   "outputs": [
    {
     "data": {
      "text/html": [
       "<div>\n",
       "<style scoped>\n",
       "    .dataframe tbody tr th:only-of-type {\n",
       "        vertical-align: middle;\n",
       "    }\n",
       "\n",
       "    .dataframe tbody tr th {\n",
       "        vertical-align: top;\n",
       "    }\n",
       "\n",
       "    .dataframe thead th {\n",
       "        text-align: right;\n",
       "    }\n",
       "</style>\n",
       "<table border=\"1\" class=\"dataframe\">\n",
       "  <thead>\n",
       "    <tr style=\"text-align: right;\">\n",
       "      <th></th>\n",
       "      <th>id</th>\n",
       "      <th>name</th>\n",
       "      <th>major</th>\n",
       "      <th>email</th>\n",
       "      <th>quantity</th>\n",
       "      <th>class</th>\n",
       "      <th>money_transfered</th>\n",
       "    </tr>\n",
       "  </thead>\n",
       "  <tbody>\n",
       "    <tr>\n",
       "      <th>0</th>\n",
       "      <td>10422021</td>\n",
       "      <td>Trần Hải Dương</td>\n",
       "      <td>CSE2022</td>\n",
       "      <td>10422021@student.vgu.edu.vn</td>\n",
       "      <td>2</td>\n",
       "      <td>VIP</td>\n",
       "      <td>1</td>\n",
       "    </tr>\n",
       "    <tr>\n",
       "      <th>1</th>\n",
       "      <td>10422022</td>\n",
       "      <td>Nguyễn Thị Minh Châu</td>\n",
       "      <td>ECE2023</td>\n",
       "      <td>10422022@student.vgu.edu.vn</td>\n",
       "      <td>3</td>\n",
       "      <td>STANDARD</td>\n",
       "      <td>1</td>\n",
       "    </tr>\n",
       "    <tr>\n",
       "      <th>2</th>\n",
       "      <td>10422023</td>\n",
       "      <td>Lê Văn Hùng</td>\n",
       "      <td>MEN2022</td>\n",
       "      <td>10422023@student.vgu.edu.vn</td>\n",
       "      <td>4</td>\n",
       "      <td>STANDARD</td>\n",
       "      <td>1</td>\n",
       "    </tr>\n",
       "    <tr>\n",
       "      <th>3</th>\n",
       "      <td>10422024</td>\n",
       "      <td>Trần Thu Hương</td>\n",
       "      <td>BFA2021</td>\n",
       "      <td>10422024@student.vgu.edu.vn</td>\n",
       "      <td>1</td>\n",
       "      <td>VIP</td>\n",
       "      <td>1</td>\n",
       "    </tr>\n",
       "    <tr>\n",
       "      <th>4</th>\n",
       "      <td>10422025</td>\n",
       "      <td>Phạm Hoàng Nam</td>\n",
       "      <td>ARC2020</td>\n",
       "      <td>10422025@student.vgu.edu.vn</td>\n",
       "      <td>2</td>\n",
       "      <td>STANDARD</td>\n",
       "      <td>1</td>\n",
       "    </tr>\n",
       "  </tbody>\n",
       "</table>\n",
       "</div>"
      ],
      "text/plain": [
       "         id                  name    major                        email   \n",
       "0  10422021        Trần Hải Dương  CSE2022  10422021@student.vgu.edu.vn  \\\n",
       "1  10422022  Nguyễn Thị Minh Châu  ECE2023  10422022@student.vgu.edu.vn   \n",
       "2  10422023           Lê Văn Hùng  MEN2022  10422023@student.vgu.edu.vn   \n",
       "3  10422024        Trần Thu Hương  BFA2021  10422024@student.vgu.edu.vn   \n",
       "4  10422025        Phạm Hoàng Nam  ARC2020  10422025@student.vgu.edu.vn   \n",
       "\n",
       "   quantity     class  money_transfered  \n",
       "0         2       VIP                 1  \n",
       "1         3  STANDARD                 1  \n",
       "2         4  STANDARD                 1  \n",
       "3         1       VIP                 1  \n",
       "4         2  STANDARD                 1  "
      ]
     },
     "execution_count": 4,
     "metadata": {},
     "output_type": "execute_result"
    }
   ],
   "source": [
    "df = pd.read_csv(path_to_csv)\n",
    "df.head()"
   ]
  },
  {
   "cell_type": "code",
   "execution_count": 5,
   "metadata": {},
   "outputs": [
    {
     "name": "stdout",
     "output_type": "stream",
     "text": [
      "273 code(s) created successfully!\n",
      "\n",
      "PWMFRY\n",
      "A8YQJD\n",
      "GU2AZR\n",
      "YKFFRB\n",
      "3Q2AAY\n"
     ]
    }
   ],
   "source": [
    "codes = generate_ticket_code(df['quantity'].sum(), seed=event_seed)\n",
    "\n",
    "print()\n",
    "for i in range(5): print(codes[i])"
   ]
  },
  {
   "cell_type": "code",
   "execution_count": 6,
   "metadata": {},
   "outputs": [
    {
     "name": "stdout",
     "output_type": "stream",
     "text": [
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n"
     ]
    }
   ],
   "source": [
    "# Slicing unique codes for each individuals\n",
    "\n",
    "index = df['quantity'].cumsum()\n",
    "\n",
    "code_list = list()\n",
    "start = 0  # Initializing start index\n",
    "\n",
    "for stop in index:\n",
    "    code_cut = codes[start:stop]  # List slicing and append to new list.\n",
    "    start = stop  # Update new start\n",
    "    code_list.append(code_cut)\n",
    "    \n",
    "print(code_list)"
   ]
  },
  {
   "cell_type": "code",
   "execution_count": 7,
   "metadata": {},
   "outputs": [
    {
     "data": {
      "text/html": [
       "<div>\n",
       "<style scoped>\n",
       "    .dataframe tbody tr th:only-of-type {\n",
       "        vertical-align: middle;\n",
       "    }\n",
       "\n",
       "    .dataframe tbody tr th {\n",
       "        vertical-align: top;\n",
       "    }\n",
       "\n",
       "    .dataframe thead th {\n",
       "        text-align: right;\n",
       "    }\n",
       "</style>\n",
       "<table border=\"1\" class=\"dataframe\">\n",
       "  <thead>\n",
       "    <tr style=\"text-align: right;\">\n",
       "      <th></th>\n",
       "      <th>id</th>\n",
       "      <th>name</th>\n",
       "      <th>major</th>\n",
       "      <th>email</th>\n",
       "      <th>quantity</th>\n",
       "      <th>class</th>\n",
       "      <th>money_transfered</th>\n",
       "      <th>codes</th>\n",
       "    </tr>\n",
       "  </thead>\n",
       "  <tbody>\n",
       "    <tr>\n",
       "      <th>0</th>\n",
       "      <td>10422021</td>\n",
       "      <td>Trần Hải Dương</td>\n",
       "      <td>CSE2022</td>\n",
       "      <td>10422021@student.vgu.edu.vn</td>\n",
       "      <td>2</td>\n",
       "      <td>VIP</td>\n",
       "      <td>1</td>\n",
       "      <td>[PWMFRY, A8YQJD]</td>\n",
       "    </tr>\n",
       "    <tr>\n",
       "      <th>1</th>\n",
       "      <td>10422022</td>\n",
       "      <td>Nguyễn Thị Minh Châu</td>\n",
       "      <td>ECE2023</td>\n",
       "      <td>10422022@student.vgu.edu.vn</td>\n",
       "      <td>3</td>\n",
       "      <td>STANDARD</td>\n",
       "      <td>1</td>\n",
       "      <td>[GU2AZR, YKFFRB, 3Q2AAY]</td>\n",
       "    </tr>\n",
       "    <tr>\n",
       "      <th>2</th>\n",
       "      <td>10422023</td>\n",
       "      <td>Lê Văn Hùng</td>\n",
       "      <td>MEN2022</td>\n",
       "      <td>10422023@student.vgu.edu.vn</td>\n",
       "      <td>4</td>\n",
       "      <td>STANDARD</td>\n",
       "      <td>1</td>\n",
       "      <td>[JMIUSM, FMSVEL, 0LBI0G, 1K70IU]</td>\n",
       "    </tr>\n",
       "    <tr>\n",
       "      <th>3</th>\n",
       "      <td>10422024</td>\n",
       "      <td>Trần Thu Hương</td>\n",
       "      <td>BFA2021</td>\n",
       "      <td>10422024@student.vgu.edu.vn</td>\n",
       "      <td>1</td>\n",
       "      <td>VIP</td>\n",
       "      <td>1</td>\n",
       "      <td>[2DGPSM]</td>\n",
       "    </tr>\n",
       "    <tr>\n",
       "      <th>4</th>\n",
       "      <td>10422025</td>\n",
       "      <td>Phạm Hoàng Nam</td>\n",
       "      <td>ARC2020</td>\n",
       "      <td>10422025@student.vgu.edu.vn</td>\n",
       "      <td>2</td>\n",
       "      <td>STANDARD</td>\n",
       "      <td>1</td>\n",
       "      <td>[YNOY8Z, GI0HL3]</td>\n",
       "    </tr>\n",
       "  </tbody>\n",
       "</table>\n",
       "</div>"
      ],
      "text/plain": [
       "         id                  name    major                        email   \n",
       "0  10422021        Trần Hải Dương  CSE2022  10422021@student.vgu.edu.vn  \\\n",
       "1  10422022  Nguyễn Thị Minh Châu  ECE2023  10422022@student.vgu.edu.vn   \n",
       "2  10422023           Lê Văn Hùng  MEN2022  10422023@student.vgu.edu.vn   \n",
       "3  10422024        Trần Thu Hương  BFA2021  10422024@student.vgu.edu.vn   \n",
       "4  10422025        Phạm Hoàng Nam  ARC2020  10422025@student.vgu.edu.vn   \n",
       "\n",
       "   quantity     class  money_transfered                             codes  \n",
       "0         2       VIP                 1                  [PWMFRY, A8YQJD]  \n",
       "1         3  STANDARD                 1          [GU2AZR, YKFFRB, 3Q2AAY]  \n",
       "2         4  STANDARD                 1  [JMIUSM, FMSVEL, 0LBI0G, 1K70IU]  \n",
       "3         1       VIP                 1                          [2DGPSM]  \n",
       "4         2  STANDARD                 1                  [YNOY8Z, GI0HL3]  "
      ]
     },
     "execution_count": 7,
     "metadata": {},
     "output_type": "execute_result"
    }
   ],
   "source": [
    "# Append new codes column to data and update to new_csv\n",
    "\n",
    "df['codes'] = code_list\n",
    "\n",
    "df.head()\n",
    "\n",
    "# df.to_csv(path_to_csv, index=0)"
   ]
  },
  {
   "cell_type": "code",
   "execution_count": 8,
   "metadata": {},
   "outputs": [],
   "source": [
    "exploded = df[['id', 'name', 'codes']].explode('codes', ignore_index=1)"
   ]
  },
  {
   "cell_type": "code",
   "execution_count": 9,
   "metadata": {},
   "outputs": [],
   "source": [
    "exploded.to_csv(\"./test/code_exploded.csv\")"
   ]
  }
 ],
 "metadata": {
  "kernelspec": {
   "display_name": "Python 3",
   "language": "python",
   "name": "python3"
  },
  "language_info": {
   "codemirror_mode": {
    "name": "ipython",
    "version": 3
   },
   "file_extension": ".py",
   "mimetype": "text/x-python",
   "name": "python",
   "nbconvert_exporter": "python",
   "pygments_lexer": "ipython3",
   "version": "3.11.0"
  },
  "orig_nbformat": 4
 },
 "nbformat": 4,
 "nbformat_minor": 2
}
