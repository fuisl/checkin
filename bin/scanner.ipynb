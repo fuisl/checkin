{
 "cells": [
  {
   "cell_type": "code",
   "execution_count": 1,
   "metadata": {},
   "outputs": [],
   "source": [
    "import playsound\n",
    "import threading\n",
    "from scan import CodeScanner\n",
    "from database import Database\n",
    "# import numpy as np"
   ]
  },
  {
   "cell_type": "code",
   "execution_count": 2,
   "metadata": {},
   "outputs": [
    {
     "name": "stdout",
     "output_type": "stream",
     "text": [
      "Connecting to default camera...\n",
      "Connected successfully!\n"
     ]
    }
   ],
   "source": [
    "class CodeScannerDatabase(CodeScanner):\n",
    "    def __init__(self, db: Database):\n",
    "        super().__init__()\n",
    "        self.db = db\n",
    "\n",
    "    def update(self, code):\n",
    "        try:\n",
    "            info = self.db.checkin(code)\n",
    "            if info:\n",
    "                for i in range(1):\n",
    "                    try:\n",
    "                        sound_thread = threading.Thread(target=playsound.playsound, args=('.\\\\assets\\\\success.wav',))\n",
    "                        sound_thread.start()\n",
    "                    except:\n",
    "                        pass\n",
    "            print(info)\n",
    "            return info\n",
    "\n",
    "        except Exception as e:\n",
    "            print(e)\n",
    "\n",
    "scanner = CodeScannerDatabase(Database(connection_string=\"mongodb://192.168.137.145:27017\"))\n",
    "scanner.connect()"
   ]
  },
  {
   "cell_type": "code",
   "execution_count": 3,
   "metadata": {},
   "outputs": [
    {
     "name": "stdout",
     "output_type": "stream",
     "text": [
      "H4M77Z\n",
      "Ticket code H4M77Z does not exist!\n",
      "R57TRC\n",
      "Ticket code R57TRC does not exist!\n",
      "1BAOYQ\n",
      "Ticket code 1BAOYQ does not exist!\n"
     ]
    }
   ],
   "source": [
    "scanner.scan()"
   ]
  }
 ],
 "metadata": {
  "kernelspec": {
   "display_name": "checkin",
   "language": "python",
   "name": "python3"
  },
  "language_info": {
   "codemirror_mode": {
    "name": "ipython",
    "version": 3
   },
   "file_extension": ".py",
   "mimetype": "text/x-python",
   "name": "python",
   "nbconvert_exporter": "python",
   "pygments_lexer": "ipython3",
   "version": "3.9.18"
  }
 },
 "nbformat": 4,
 "nbformat_minor": 2
}
