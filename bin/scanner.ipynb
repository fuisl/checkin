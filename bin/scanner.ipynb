{
 "cells": [
  {
   "cell_type": "code",
   "execution_count": 1,
   "metadata": {},
   "outputs": [],
   "source": [
    "import playsound\n",
    "import threading\n",
    "from scan import CodeScanner\n",
    "from database import Database\n",
    "# import numpy as np"
   ]
  },
  {
   "cell_type": "code",
   "execution_count": null,
   "metadata": {},
   "outputs": [],
   "source": [
    "class CodeScannerDatabase(CodeScanner):\n",
    "    \"\"\"\n",
    "    This class is a medium to connect the CodeScanner class with the Database class.\n",
    "    It is used to update the database with the checkin information.\n",
    "\n",
    "    TODO: This class should be modulize.\n",
    "    \"\"\"\n",
    "    def __init__(self, db: Database):\n",
    "        super().__init__()\n",
    "        self.db = db\n",
    "\n",
    "    def update(self, code):\n",
    "        \"\"\"\n",
    "        Override the update method in the CodeScanner class.\n",
    "        This method is used to update the database with the checkin information.\n",
    "\n",
    "        With every success scan, it will update the database and also play a sound to notify end user.\n",
    "\n",
    "        :param code: The code that is scanned.\n",
    "        \"\"\"\n",
    "        try:\n",
    "            info = self.db.checkin(code)\n",
    "            if info:\n",
    "                for i in range(1):\n",
    "                    try:\n",
    "                        sound_thread = threading.Thread(target=playsound.playsound, args=('.\\\\assets\\\\success.wav',))\n",
    "                        sound_thread.start()\n",
    "                    except:\n",
    "                        pass\n",
    "            print(info)\n",
    "            return info\n",
    "\n",
    "        except Exception as e:\n",
    "            print(e)\n",
    "\n",
    "scanner = CodeScannerDatabase(Database(connection_string=\"mongodb://192.168.137.145:27017\"))\n",
    "scanner.connect()"
   ]
  },
  {
   "cell_type": "code",
   "execution_count": null,
   "metadata": {},
   "outputs": [],
   "source": [
    "scanner.scan()"
   ]
  }
 ],
 "metadata": {
  "kernelspec": {
   "display_name": "checkin",
   "language": "python",
   "name": "python3"
  },
  "language_info": {
   "codemirror_mode": {
    "name": "ipython",
    "version": 3
   },
   "file_extension": ".py",
   "mimetype": "text/x-python",
   "name": "python",
   "nbconvert_exporter": "python",
   "pygments_lexer": "ipython3",
   "version": "3.9.18"
  }
 },
 "nbformat": 4,
 "nbformat_minor": 2
}
