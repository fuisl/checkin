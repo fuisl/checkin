{
 "cells": [
  {
   "cell_type": "markdown",
   "metadata": {},
   "source": [
    "# Import"
   ]
  },
  {
   "cell_type": "code",
   "execution_count": null,
   "metadata": {},
   "outputs": [],
   "source": [
    "import playsound\n",
    "import threading\n",
    "from scan import CodeScanner\n",
    "from database_career_fair import Database\n",
    "import cv2\n",
    "import os"
   ]
  },
  {
   "cell_type": "markdown",
   "metadata": {},
   "source": [
    "# Function"
   ]
  },
  {
   "cell_type": "code",
   "execution_count": null,
   "metadata": {},
   "outputs": [],
   "source": [
    "def returnCameraIndexes():\n",
    "    # checks the first 10 indexes.\n",
    "    index = 0\n",
    "    arr = []\n",
    "    i = 10\n",
    "    while i >= 0:\n",
    "        cap = cv2.VideoCapture(index)\n",
    "        if cap.read()[0]:\n",
    "            arr.append(index)\n",
    "            cap.release()\n",
    "        index += 1\n",
    "        i -= 1\n",
    "    return arr\n",
    "\n",
    "class CodeScannerDatabase(CodeScanner):\n",
    "    def __init__(self, db: Database, cam_index):\n",
    "        super().__init__(cam_index=cam_index)\n",
    "        self.db = db\n",
    "\n",
    "    def update(self, code):\n",
    "        try:\n",
    "            info = self.db.checkin(code)\n",
    "            if info:\n",
    "                for _ in range(1):\n",
    "                    try:\n",
    "                        sound_thread = threading.Thread(target=playsound.playsound, args=('./assets/success.wav',))\n",
    "                        sound_thread.start()\n",
    "                    except:\n",
    "                        pass\n",
    "            print(info)\n",
    "            return info\n",
    "\n",
    "        except Exception as e:\n",
    "            print(e)\n"
   ]
  },
  {
   "cell_type": "markdown",
   "metadata": {},
   "source": [
    "# Main"
   ]
  },
  {
   "cell_type": "code",
   "execution_count": null,
   "metadata": {},
   "outputs": [],
   "source": [
    "CONNECTION_STRING = os.environ['CONNECTION_STRING']"
   ]
  },
  {
   "cell_type": "code",
   "execution_count": null,
   "metadata": {},
   "outputs": [],
   "source": [
    "camera_indices = returnCameraIndexes()\n",
    "print(camera_indices)\n",
    "\n",
    "scanner = CodeScannerDatabase(cam_index=camera_indices[0], db=Database(connection_string=CONNECTION_STRING))\n",
    "scanner.connect()\n",
    "scanner.scan()"
   ]
  }
 ],
 "metadata": {
  "kernelspec": {
   "display_name": "checkin_presto",
   "language": "python",
   "name": "python3"
  },
  "language_info": {
   "codemirror_mode": {
    "name": "ipython",
    "version": 3
   },
   "file_extension": ".py",
   "mimetype": "text/x-python",
   "name": "python",
   "nbconvert_exporter": "python",
   "pygments_lexer": "ipython3",
   "version": "3.12.2"
  }
 },
 "nbformat": 4,
 "nbformat_minor": 2
}
