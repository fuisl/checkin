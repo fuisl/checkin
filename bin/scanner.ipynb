{
 "cells": [
  {
   "cell_type": "markdown",
   "metadata": {},
   "source": [
    "# Import"
   ]
  },
  {
   "cell_type": "code",
   "execution_count": 6,
   "metadata": {},
   "outputs": [],
   "source": [
    "import playsound\n",
    "import threading\n",
    "from scan import CodeScanner\n",
    "from database_career_fair import Database\n",
    "import cv2\n",
    "import os"
   ]
  },
  {
   "cell_type": "markdown",
   "metadata": {},
   "source": [
    "# Function"
   ]
  },
  {
   "cell_type": "code",
   "execution_count": 7,
   "metadata": {},
   "outputs": [],
   "source": [
    "def returnCameraIndexes():\n",
    "    # checks the first 10 indexes.\n",
    "    index = 0\n",
    "    arr = []\n",
    "    i = 10\n",
    "    while i >= 0:\n",
    "        cap = cv2.VideoCapture(index)\n",
    "        if cap.read()[0]:\n",
    "            arr.append(index)\n",
    "            cap.release()\n",
    "        index += 1\n",
    "        i -= 1\n",
    "    return arr\n",
    "\n",
    "class CodeScannerDatabase(CodeScanner):\n",
    "    def __init__(self, db: Database, cam_index):\n",
    "        super().__init__(cam_index=cam_index)\n",
    "        self.db = db\n",
    "\n",
    "    def update(self, code):\n",
    "        try:\n",
    "            info = self.db.checkin(code)\n",
    "            if info:\n",
    "                for _ in range(1):\n",
    "                    try:\n",
    "                        sound_thread = threading.Thread(target=playsound.playsound, args=('./assets/success.wav',))\n",
    "                        sound_thread.start()\n",
    "                    except:\n",
    "                        pass\n",
    "            print(info)\n",
    "            return info\n",
    "\n",
    "        except Exception as e:\n",
    "            print(e)\n"
   ]
  },
  {
   "cell_type": "markdown",
   "metadata": {},
   "source": [
    "# Main"
   ]
  },
  {
   "cell_type": "code",
   "execution_count": null,
   "metadata": {},
   "outputs": [],
   "source": [
    "CONNECTION_STRING = \"mongodb://localhost:27017\""
   ]
  },
  {
   "cell_type": "code",
   "execution_count": 13,
   "metadata": {},
   "outputs": [
    {
     "name": "stderr",
     "output_type": "stream",
     "text": [
      "[ WARN:0@1858.799] global /io/opencv/modules/videoio/src/cap_v4l.cpp (889) open VIDEOIO(V4L2:/dev/video1): can't open camera by index\n",
      "[ WARN:0@1858.799] global /io/opencv/modules/videoio/src/cap_v4l.cpp (889) open VIDEOIO(V4L2:/dev/video2): can't open camera by index\n",
      "[ WARN:0@1858.800] global /io/opencv/modules/videoio/src/cap_v4l.cpp (889) open VIDEOIO(V4L2:/dev/video3): can't open camera by index\n",
      "[ WARN:0@1858.800] global /io/opencv/modules/videoio/src/cap_v4l.cpp (889) open VIDEOIO(V4L2:/dev/video4): can't open camera by index\n",
      "[ WARN:0@1858.800] global /io/opencv/modules/videoio/src/cap_v4l.cpp (889) open VIDEOIO(V4L2:/dev/video5): can't open camera by index\n",
      "[ WARN:0@1858.800] global /io/opencv/modules/videoio/src/cap_v4l.cpp (889) open VIDEOIO(V4L2:/dev/video6): can't open camera by index\n",
      "[ WARN:0@1858.800] global /io/opencv/modules/videoio/src/cap_v4l.cpp (889) open VIDEOIO(V4L2:/dev/video7): can't open camera by index\n",
      "[ WARN:0@1858.800] global /io/opencv/modules/videoio/src/cap_v4l.cpp (889) open VIDEOIO(V4L2:/dev/video8): can't open camera by index\n",
      "[ WARN:0@1858.800] global /io/opencv/modules/videoio/src/cap_v4l.cpp (889) open VIDEOIO(V4L2:/dev/video9): can't open camera by index\n",
      "[ WARN:0@1858.801] global /io/opencv/modules/videoio/src/cap_v4l.cpp (889) open VIDEOIO(V4L2:/dev/video10): can't open camera by index\n"
     ]
    },
    {
     "name": "stdout",
     "output_type": "stream",
     "text": [
      "[0]\n",
      "Connecting to default camera...\n",
      "Connected successfully!\n"
     ]
    }
   ],
   "source": [
    "camera_indices = returnCameraIndexes()\n",
    "print(camera_indices)\n",
    "\n",
    "scanner = CodeScannerDatabase(cam_index=camera_indices[0], db=Database(connection_string=CONNECTION_STRING))\n",
    "scanner.connect()\n",
    "scanner.scan()"
   ]
  }
 ],
 "metadata": {
  "kernelspec": {
   "display_name": "checkin_presto",
   "language": "python",
   "name": "python3"
  },
  "language_info": {
   "codemirror_mode": {
    "name": "ipython",
    "version": 3
   },
   "file_extension": ".py",
   "mimetype": "text/x-python",
   "name": "python",
   "nbconvert_exporter": "python",
   "pygments_lexer": "ipython3",
   "version": "3.12.2"
  }
 },
 "nbformat": 4,
 "nbformat_minor": 2
}
