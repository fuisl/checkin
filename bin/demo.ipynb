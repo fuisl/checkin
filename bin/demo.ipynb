{
 "cells": [
  {
   "cell_type": "markdown",
   "metadata": {},
   "source": [
    "# **PHASE 1**"
   ]
  },
  {
   "cell_type": "code",
   "execution_count": 1,
   "metadata": {},
   "outputs": [],
   "source": [
    "import gen  # import the generated module"
   ]
  },
  {
   "cell_type": "code",
   "execution_count": 2,
   "metadata": {},
   "outputs": [],
   "source": [
    "# Initialize the ticket classes and quantity\n",
    "ticket_info = {\n",
    "    \"STANDARD\": 100,\n",
    "    \"VIP\": 20,\n",
    "}"
   ]
  },
  {
   "cell_type": "code",
   "execution_count": 3,
   "metadata": {},
   "outputs": [],
   "source": [
    "checkin = gen.Gen()  # Checkin object"
   ]
  },
  {
   "cell_type": "code",
   "execution_count": 4,
   "metadata": {},
   "outputs": [
    {
     "name": "stdout",
     "output_type": "stream",
     "text": [
      "120 code(s) created successfully!\n"
     ]
    }
   ],
   "source": [
    "checkin.gen(ticket_info) # Generate raw ticket data"
   ]
  },
  {
   "cell_type": "code",
   "execution_count": 5,
   "metadata": {},
   "outputs": [
    {
     "name": "stdout",
     "output_type": "stream",
     "text": [
      "120 QRCodes created successfully!\n"
     ]
    }
   ],
   "source": [
    "checkin.encode(type='qr', transparent=False)  # Generate QR code"
   ]
  },
  {
   "cell_type": "markdown",
   "metadata": {},
   "source": [
    "# **PHASE 2**"
   ]
  },
  {
   "cell_type": "code",
   "execution_count": null,
   "metadata": {},
   "outputs": [],
   "source": [
    "import os\n",
    "\n",
    "os.chdir('../web/')\n",
    "\n",
    "!python app.py  # run the web app"
   ]
  },
  {
   "cell_type": "code",
   "execution_count": 4,
   "metadata": {},
   "outputs": [],
   "source": [
    "os.chdir('../bin')\n",
    "\n",
    "!python train.py \"../web/data/\" \"./trained_knn_model.clf\""
   ]
  },
  {
   "cell_type": "markdown",
   "metadata": {},
   "source": [
    "# **PHASE 3**"
   ]
  },
  {
   "cell_type": "code",
   "execution_count": 4,
   "metadata": {},
   "outputs": [],
   "source": [
    "from reset_database import reset_is_bought, reset_checked\n",
    "\n",
    "# reset_is_bought()\n",
    "reset_checked()"
   ]
  },
  {
   "cell_type": "code",
   "execution_count": 1,
   "metadata": {},
   "outputs": [],
   "source": [
    "from scan import FaceScanner, CodeScanner\n",
    "\n",
    "adafruit_account = {\"username\":\"fuisl\",\n",
    "                    \"key\":\"aio_tTnu32dUJzFAb2CAujEyANAQVnKl\"}"
   ]
  },
  {
   "cell_type": "code",
   "execution_count": null,
   "metadata": {},
   "outputs": [],
   "source": [
    "scanner = FaceScanner()  # Create a face scanner object\n",
    "scanner.set_ada_info(adafruit_account) # Set adafruit username and key\n",
    "\n",
    "scanner.load_model(model_path='./trained_knn_model.clf')  # Load the trained KNN model\n",
    "\n",
    "scanner.connect()  # Connect to default camera\n",
    "scanner.scan()  # Scan for faces and update to database"
   ]
  },
  {
   "cell_type": "code",
   "execution_count": null,
   "metadata": {},
   "outputs": [],
   "source": [
    "scanner = CodeScanner()\n",
    "scanner.set_ada_info(adafruit_account)\n",
    "\n",
    "scanner.connect()\n",
    "scanner.scan()"
   ]
  }
 ],
 "metadata": {
  "kernelspec": {
   "display_name": "Python 3",
   "language": "python",
   "name": "python3"
  },
  "language_info": {
   "codemirror_mode": {
    "name": "ipython",
    "version": 3
   },
   "file_extension": ".py",
   "mimetype": "text/x-python",
   "name": "python",
   "nbconvert_exporter": "python",
   "pygments_lexer": "ipython3",
   "version": "3.11.0"
  },
  "orig_nbformat": 4
 },
 "nbformat": 4,
 "nbformat_minor": 2
}
