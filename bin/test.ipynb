{
 "cells": [
  {
   "cell_type": "markdown",
   "metadata": {},
   "source": [
    "# Ticket generation"
   ]
  },
  {
   "cell_type": "code",
   "execution_count": 2,
   "metadata": {},
   "outputs": [
    {
     "name": "stdout",
     "output_type": "stream",
     "text": [
      "230 code(s) created successfully!\n"
     ]
    }
   ],
   "source": [
    "from gen import Gen\n",
    "\n",
    "ticket_info = {\n",
    "    'svip': 14,\n",
    "    'vip': 32,\n",
    "    'norm_center': 66,\n",
    "    'norm_rear': 98\n",
    "}\n",
    "\n",
    "codes = Gen('checkin_presto').gen(230)\n",
    "spare_codes = codes[-20:]\n",
    "main_codes = codes[:-20]"
   ]
  },
  {
   "cell_type": "code",
   "execution_count": 10,
   "metadata": {},
   "outputs": [],
   "source": [
    "from database import GenerateTicketInfo\n",
    "\n",
    "tickets = GenerateTicketInfo(ticket_info=ticket_info, codes=main_codes)\n",
    "database_formatted_tickets = tickets.generate_tickets()\n",
    "database_formatted_tickets_spare = []\n",
    "\n",
    "for code in spare_codes:\n",
    "    ticket = {\n",
    "        \"_id\": code,\n",
    "        \"class\": \"\",\n",
    "        \"seat\": \"\",\n",
    "        \"is_bought\": False\n",
    "    }\n",
    "\n",
    "    database_formatted_tickets_spare.append(ticket)"
   ]
  },
  {
   "cell_type": "code",
   "execution_count": 20,
   "metadata": {},
   "outputs": [],
   "source": [
    "import pandas as pd\n",
    "\n",
    "df = pd.DataFrame(database_formatted_tickets + database_formatted_tickets_spare)\n",
    "df.to_csv('official_ticket_info_phase_1.csv')"
   ]
  }
 ],
 "metadata": {
  "kernelspec": {
   "display_name": "checkin",
   "language": "python",
   "name": "python3"
  },
  "language_info": {
   "codemirror_mode": {
    "name": "ipython",
    "version": 3
   },
   "file_extension": ".py",
   "mimetype": "text/x-python",
   "name": "python",
   "nbconvert_exporter": "python",
   "pygments_lexer": "ipython3",
   "version": "3.12.2"
  }
 },
 "nbformat": 4,
 "nbformat_minor": 2
}
