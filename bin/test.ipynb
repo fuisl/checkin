{
 "cells": [
  {
   "cell_type": "code",
   "execution_count": 1,
   "metadata": {},
   "outputs": [],
   "source": [
    "from scan import CodeScanner, FaceScanner"
   ]
  },
  {
   "cell_type": "code",
   "execution_count": null,
   "metadata": {},
   "outputs": [],
   "source": [
    "obj1 = CodeScanner()\n",
    "\n",
    "obj1.connect('172.16.4.204')  # Connect to remote camera with default port=4747\n",
    "obj1.scan()  # Execute"
   ]
  },
  {
   "cell_type": "code",
   "execution_count": null,
   "metadata": {},
   "outputs": [],
   "source": [
    "obj2 = FaceScanner()\n",
    "\n",
    "obj2.connect()  # Connect to default camera\n",
    "obj2.load_model(model_path='../notebook/trained_knn_model.clf')  # Load trained model\n",
    "obj2.scan()  # Execute"
   ]
  }
 ],
 "metadata": {
  "kernelspec": {
   "display_name": "Python 3",
   "language": "python",
   "name": "python3"
  },
  "language_info": {
   "codemirror_mode": {
    "name": "ipython",
    "version": 3
   },
   "file_extension": ".py",
   "mimetype": "text/x-python",
   "name": "python",
   "nbconvert_exporter": "python",
   "pygments_lexer": "ipython3",
   "version": "3.11.0"
  },
  "orig_nbformat": 4
 },
 "nbformat": 4,
 "nbformat_minor": 2
}
