{
 "cells": [
  {
   "cell_type": "code",
   "execution_count": 5,
   "metadata": {},
   "outputs": [],
   "source": [
    "from gen import Gen\n",
    "\n",
    "event = Gen('test')"
   ]
  },
  {
   "cell_type": "code",
   "execution_count": 9,
   "metadata": {},
   "outputs": [
    {
     "name": "stdout",
     "output_type": "stream",
     "text": [
      "10 code(s) created successfully!\n"
     ]
    },
    {
     "data": {
      "text/plain": [
       "['QPMCZI',\n",
       " 'O7XRX5',\n",
       " 'VWZTOV',\n",
       " '6PB9OF',\n",
       " '668R4V',\n",
       " '2EZOGG',\n",
       " '9WODZX',\n",
       " 'VNCD1E',\n",
       " 'V3EZVV',\n",
       " '0F30IF']"
      ]
     },
     "execution_count": 9,
     "metadata": {},
     "output_type": "execute_result"
    }
   ],
   "source": [
    "codes = event.gen(quantity=9)\n",
    "ticket_info = {\n",
    "    'vvip': 1,\n",
    "    'vip': 2,\n",
    "    'norm_center': 3,\n",
    "    'norm_rear': 4\n",
    "}\n",
    "\n",
    "codes"
   ]
  },
  {
   "cell_type": "code",
   "execution_count": 18,
   "metadata": {},
   "outputs": [],
   "source": [
    "from string import ascii_uppercase\n",
    "def generate_cinema_seats(row_num, seats_per_row):\n",
    "    assert row_num > 0 and seats_per_row > 0, \"Invalid number of seats per row/col\"\n",
    "\n",
    "    result_seats = []\n",
    "\n",
    "    for letter in ascii_uppercase[:row_num]:\n",
    "        seat_ids = [f'{letter}{number}' for number in range(seats_per_row)]\n",
    "        result_seats.extend(seat_ids)\n",
    "\n",
    "    return result_seats"
   ]
  },
  {
   "cell_type": "code",
   "execution_count": 13,
   "metadata": {},
   "outputs": [],
   "source": [
    "def create_ticket_database(ticket_info, codes):\n",
    "    assert len(codes) == sum(ticket_info.values())\n",
    "\n",
    "    return True"
   ]
  },
  {
   "cell_type": "code",
   "execution_count": 14,
   "metadata": {},
   "outputs": [
    {
     "data": {
      "text/plain": [
       "True"
      ]
     },
     "execution_count": 14,
     "metadata": {},
     "output_type": "execute_result"
    }
   ],
   "source": [
    "create_ticket_database(ticket_info, codes)"
   ]
  },
  {
   "cell_type": "code",
   "execution_count": 8,
   "metadata": {},
   "outputs": [],
   "source": [
    "import pymongo\n",
    "\n",
    "CONNECTION_STRING = \"mongodb://localhost:27017\"\n",
    "client =  pymongo.MongoClient(CONNECTION_STRING)\n",
    "\n",
    "db = client['checkin_presto']"
   ]
  }
 ],
 "metadata": {
  "kernelspec": {
   "display_name": "checkin",
   "language": "python",
   "name": "python3"
  },
  "language_info": {
   "codemirror_mode": {
    "name": "ipython",
    "version": 3
   },
   "file_extension": ".py",
   "mimetype": "text/x-python",
   "name": "python",
   "nbconvert_exporter": "python",
   "pygments_lexer": "ipython3",
   "version": "3.9.18"
  }
 },
 "nbformat": 4,
 "nbformat_minor": 2
}
