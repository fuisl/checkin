{
 "cells": [
  {
   "cell_type": "code",
   "execution_count": 3,
   "metadata": {},
   "outputs": [],
   "source": [
    "from gen import Gen\n",
    "from scan import CodeScanner"
   ]
  },
  {
   "cell_type": "code",
   "execution_count": 2,
   "metadata": {},
   "outputs": [
    {
     "name": "stdout",
     "output_type": "stream",
     "text": [
      "3 code(s) created successfully!\n",
      "Folder './qrcodes' created successfully.\n",
      "3 QRCodes created successfully!\n"
     ]
    }
   ],
   "source": [
    "g = Gen('357')  \n",
    "codes = g.gen(3)\n",
    "g.encode()"
   ]
  },
  {
   "cell_type": "code",
   "execution_count": 1,
   "metadata": {},
   "outputs": [
    {
     "name": "stdout",
     "output_type": "stream",
     "text": [
      "Pinged deployment. Successfully connected to MongoDB!\n"
     ]
    }
   ],
   "source": [
    "from updater import Updater\n",
    "u = Updater('357')"
   ]
  },
  {
   "cell_type": "code",
   "execution_count": null,
   "metadata": {},
   "outputs": [],
   "source": [
    "names = u.get_user_info('QPMCZI')\n",
    "print(names)"
   ]
  },
  {
   "cell_type": "code",
   "execution_count": 4,
   "metadata": {},
   "outputs": [],
   "source": [
    "user_info = {'user_id': '10422021',\n",
    "        'name': 'Tran Hai Duong',\n",
    "        'email': '10422021@student.vgu.edu.vn'}\n",
    "\n",
    "u.add_user_info(user_info)"
   ]
  },
  {
   "cell_type": "code",
   "execution_count": 5,
   "metadata": {},
   "outputs": [],
   "source": [
    "u.add_ticket_info_many(codes)"
   ]
  },
  {
   "cell_type": "code",
   "execution_count": 6,
   "metadata": {},
   "outputs": [],
   "source": [
    "u.assign_ticket('10422021')"
   ]
  },
  {
   "cell_type": "code",
   "execution_count": 7,
   "metadata": {},
   "outputs": [],
   "source": [
    "u.register_one('10422021')"
   ]
  },
  {
   "cell_type": "code",
   "execution_count": 4,
   "metadata": {},
   "outputs": [],
   "source": [
    "u.update('QPMCZI')"
   ]
  },
  {
   "cell_type": "code",
   "execution_count": 4,
   "metadata": {},
   "outputs": [
    {
     "name": "stdout",
     "output_type": "stream",
     "text": [
      "Pinged deployment. Successfully connected to MongoDB!\n"
     ]
    }
   ],
   "source": [
    "c = CodeScanner(\"lunch1\")  # for staff"
   ]
  },
  {
   "cell_type": "code",
   "execution_count": 5,
   "metadata": {},
   "outputs": [
    {
     "name": "stdout",
     "output_type": "stream",
     "text": [
      "Connecting to default camera...\n",
      "Connected successfully!\n"
     ]
    }
   ],
   "source": [
    "c.connect()"
   ]
  },
  {
   "cell_type": "code",
   "execution_count": 6,
   "metadata": {},
   "outputs": [
    {
     "name": "stdout",
     "output_type": "stream",
     "text": [
      "0LYC3D\n"
     ]
    }
   ],
   "source": [
    "c.scan()"
   ]
  },
  {
   "cell_type": "code",
   "execution_count": null,
   "metadata": {},
   "outputs": [],
   "source": [
    "\n",
    "info = {\n",
    "    \"from\": \"fuisloy@gmail.com\",\n",
    "    \"to\":\"10422021@student.vgu.edu.vn\",\n",
    "    \"subject\": \"[IED23] Entrance Ticket\",\n",
    "    \"template\": \"ticket.html\",\n",
    "    \"name\": \"Tran Hai Duong\",\n",
    "    \"number\": \"10422021\",\n",
    "    \"code\": \"\",\n",
    "    \"key\": \"zzsfmfvfposwxqwh\"\n",
    "\n",
    "}"
   ]
  },
  {
   "cell_type": "code",
   "execution_count": 1,
   "metadata": {},
   "outputs": [
    {
     "name": "stdout",
     "output_type": "stream",
     "text": [
      "35 QRCodes created successfully!\n"
     ]
    }
   ],
   "source": [
    "from gen import Gen\n",
    "\n",
    "g = Gen()\n",
    "major_list = ['CSE', 'BBA', 'BFA', 'ECE', 'MEN', 'ARC', 'BCE']\n",
    "intake_list = ['2023', '2022', '2021', '2020', '2019']\n",
    "\n",
    "final_list = [m + i for m in major_list for i in intake_list]\n",
    "\n",
    "g.encode(final_list)"
   ]
  },
  {
   "cell_type": "code",
   "execution_count": 2,
   "metadata": {},
   "outputs": [
    {
     "name": "stdout",
     "output_type": "stream",
     "text": [
      "Pinged deployment. Successfully connected to MongoDB!\n",
      "Connecting to default camera...\n",
      "Connected successfully!\n",
      "CSE2022\n"
     ]
    }
   ],
   "source": [
    "from scan import CodeScanner\n",
    "\n",
    "c = CodeScanner(\"ied-test\")\n",
    "\n",
    "c.connect()\n",
    "c.scan()"
   ]
  }
 ],
 "metadata": {
  "kernelspec": {
   "display_name": "Python 3",
   "language": "python",
   "name": "python3"
  },
  "language_info": {
   "codemirror_mode": {
    "name": "ipython",
    "version": 3
   },
   "file_extension": ".py",
   "mimetype": "text/x-python",
   "name": "python",
   "nbconvert_exporter": "python",
   "pygments_lexer": "ipython3",
   "version": "3.11.0"
  },
  "orig_nbformat": 4
 },
 "nbformat": 4,
 "nbformat_minor": 2
}
