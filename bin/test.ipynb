{
 "cells": [
  {
   "cell_type": "code",
   "execution_count": 1,
   "metadata": {},
   "outputs": [],
   "source": [
    "from scan import CodeScanner, FaceScanner"
   ]
  },
  {
   "cell_type": "code",
   "execution_count": 2,
   "metadata": {},
   "outputs": [
    {
     "name": "stdout",
     "output_type": "stream",
     "text": [
      "Connecting to default camera...\n",
      "Connected successfully!\n",
      "Connected to Adafruit IO!\n",
      "Connected to Adafruit IO!  Listening for fuisl changes...\n",
      "Subscribed!\n",
      "Subscribed!\n",
      "0A5YB6\n",
      "Feed paused received new value: 1\n"
     ]
    }
   ],
   "source": [
    "obj1 = CodeScanner()\n",
    "\n",
    "obj1.connect()  # Connect to remote camera with default port=4747\n",
    "obj1.scan()  # Execute"
   ]
  },
  {
   "cell_type": "code",
   "execution_count": null,
   "metadata": {},
   "outputs": [],
   "source": [
    "# obj2 = FaceScanner()\n",
    "\n",
    "# obj2.connect()  # Connect to default camera\n",
    "# obj2.load_model(model_path='../notebook/trained_knn_model.clf')  # Load trained model\n",
    "# obj2.scan()  # Execute"
   ]
  },
  {
   "cell_type": "code",
   "execution_count": 1,
   "metadata": {},
   "outputs": [],
   "source": [
    "from adafruit import Adafruit\n",
    "info = {\"username\":\"fuisl\",\n",
    "        \"key\":\"aio_Zpqj39l0FDq745LDnw1P1zuKxXXE\"}\n",
    "ada = Adafruit(info)"
   ]
  },
  {
   "cell_type": "code",
   "execution_count": null,
   "metadata": {},
   "outputs": [],
   "source": [
    "ada.connect()"
   ]
  },
  {
   "cell_type": "code",
   "execution_count": 1,
   "metadata": {},
   "outputs": [
    {
     "name": "stdout",
     "output_type": "stream",
     "text": [
      "10 code(s) created successfully!\n"
     ]
    },
    {
     "ename": "BulkWriteError",
     "evalue": "batch op errors occurred, full error: {'writeErrors': [{'index': 0, 'code': 11000, 'errmsg': 'E11000 duplicate key error collection: web_db.ticket_data index: _id_ dup key: { _id: \"RU83YO\" }', 'keyPattern': {'_id': 1}, 'keyValue': {'_id': 'RU83YO'}, 'op': {'class': 'STANDARD', '_id': 'RU83YO', 'is_bought': False}}], 'writeConcernErrors': [], 'nInserted': 0, 'nUpserted': 0, 'nMatched': 0, 'nModified': 0, 'nRemoved': 0, 'upserted': []}",
     "output_type": "error",
     "traceback": [
      "\u001b[1;31m---------------------------------------------------------------------------\u001b[0m",
      "\u001b[1;31mBulkWriteError\u001b[0m                            Traceback (most recent call last)",
      "\u001b[1;32mc:\\Users\\fuisl\\checkin\\bin\\test.ipynb Cell 6\u001b[0m in \u001b[0;36m1\n\u001b[0;32m      <a href='vscode-notebook-cell:/c%3A/Users/fuisl/checkin/bin/test.ipynb#Y104sZmlsZQ%3D%3D?line=2'>3</a>\u001b[0m ticket_info \u001b[39m=\u001b[39m {\n\u001b[0;32m      <a href='vscode-notebook-cell:/c%3A/Users/fuisl/checkin/bin/test.ipynb#Y104sZmlsZQ%3D%3D?line=3'>4</a>\u001b[0m     \u001b[39m\"\u001b[39m\u001b[39mSTANDARD\u001b[39m\u001b[39m\"\u001b[39m: \u001b[39m5\u001b[39m,\n\u001b[0;32m      <a href='vscode-notebook-cell:/c%3A/Users/fuisl/checkin/bin/test.ipynb#Y104sZmlsZQ%3D%3D?line=4'>5</a>\u001b[0m     \u001b[39m\"\u001b[39m\u001b[39mVIP\u001b[39m\u001b[39m\"\u001b[39m: \u001b[39m3\u001b[39m,\n\u001b[0;32m      <a href='vscode-notebook-cell:/c%3A/Users/fuisl/checkin/bin/test.ipynb#Y104sZmlsZQ%3D%3D?line=5'>6</a>\u001b[0m     \u001b[39m\"\u001b[39m\u001b[39mVVIP\u001b[39m\u001b[39m\"\u001b[39m: \u001b[39m2\u001b[39m\n\u001b[0;32m      <a href='vscode-notebook-cell:/c%3A/Users/fuisl/checkin/bin/test.ipynb#Y104sZmlsZQ%3D%3D?line=6'>7</a>\u001b[0m }\n\u001b[0;32m      <a href='vscode-notebook-cell:/c%3A/Users/fuisl/checkin/bin/test.ipynb#Y104sZmlsZQ%3D%3D?line=8'>9</a>\u001b[0m checkin \u001b[39m=\u001b[39m gen\u001b[39m.\u001b[39mGen()\n\u001b[1;32m---> <a href='vscode-notebook-cell:/c%3A/Users/fuisl/checkin/bin/test.ipynb#Y104sZmlsZQ%3D%3D?line=9'>10</a>\u001b[0m checkin\u001b[39m.\u001b[39;49mgen(ticket_info)\n\u001b[0;32m     <a href='vscode-notebook-cell:/c%3A/Users/fuisl/checkin/bin/test.ipynb#Y104sZmlsZQ%3D%3D?line=10'>11</a>\u001b[0m checkin\u001b[39m.\u001b[39mencode(\u001b[39mtype\u001b[39m\u001b[39m=\u001b[39m\u001b[39m'\u001b[39m\u001b[39mqr\u001b[39m\u001b[39m'\u001b[39m, transparent\u001b[39m=\u001b[39m\u001b[39mFalse\u001b[39;00m)\n",
      "File \u001b[1;32mc:\\Users\\fuisl\\checkin\\bin\\gen.py:29\u001b[0m, in \u001b[0;36mGen.gen\u001b[1;34m(self, ticket_info)\u001b[0m\n\u001b[0;32m     25\u001b[0m codes \u001b[39m=\u001b[39m generate_ticket_code(ticket_info, n, seed\u001b[39m=\u001b[39m\u001b[39mself\u001b[39m\u001b[39m.\u001b[39mevent_code)\n\u001b[0;32m     27\u001b[0m \u001b[39mself\u001b[39m\u001b[39m.\u001b[39mcodes \u001b[39m=\u001b[39m codes\n\u001b[1;32m---> 29\u001b[0m TicketCode()\u001b[39m.\u001b[39;49mcreate_tickets(codes)\n",
      "File \u001b[1;32mc:\\Users\\fuisl\\checkin\\bin\\updater.py:176\u001b[0m, in \u001b[0;36mTicketCode.create_tickets\u001b[1;34m(self, data)\u001b[0m\n\u001b[0;32m    175\u001b[0m \u001b[39mdef\u001b[39;00m \u001b[39mcreate_tickets\u001b[39m(\u001b[39mself\u001b[39m, data: \u001b[39mlist\u001b[39m):\n\u001b[1;32m--> 176\u001b[0m     \u001b[39mself\u001b[39;49m\u001b[39m.\u001b[39;49m__ticket_data_collection\u001b[39m.\u001b[39;49minsert_many(data)\n",
      "File \u001b[1;32m~\\AppData\\Roaming\\Python\\Python311\\site-packages\\pymongo\\_csot.py:106\u001b[0m, in \u001b[0;36mapply.<locals>.csot_wrapper\u001b[1;34m(self, *args, **kwargs)\u001b[0m\n\u001b[0;32m    104\u001b[0m         \u001b[39mwith\u001b[39;00m _TimeoutContext(timeout):\n\u001b[0;32m    105\u001b[0m             \u001b[39mreturn\u001b[39;00m func(\u001b[39mself\u001b[39m, \u001b[39m*\u001b[39margs, \u001b[39m*\u001b[39m\u001b[39m*\u001b[39mkwargs)\n\u001b[1;32m--> 106\u001b[0m \u001b[39mreturn\u001b[39;00m func(\u001b[39mself\u001b[39;49m, \u001b[39m*\u001b[39;49margs, \u001b[39m*\u001b[39;49m\u001b[39m*\u001b[39;49mkwargs)\n",
      "File \u001b[1;32m~\\AppData\\Roaming\\Python\\Python311\\site-packages\\pymongo\\collection.py:725\u001b[0m, in \u001b[0;36mCollection.insert_many\u001b[1;34m(self, documents, ordered, bypass_document_validation, session, comment)\u001b[0m\n\u001b[0;32m    723\u001b[0m blk \u001b[39m=\u001b[39m _Bulk(\u001b[39mself\u001b[39m, ordered, bypass_document_validation, comment\u001b[39m=\u001b[39mcomment)\n\u001b[0;32m    724\u001b[0m blk\u001b[39m.\u001b[39mops \u001b[39m=\u001b[39m \u001b[39mlist\u001b[39m(gen())\n\u001b[1;32m--> 725\u001b[0m blk\u001b[39m.\u001b[39;49mexecute(write_concern, session\u001b[39m=\u001b[39;49msession)\n\u001b[0;32m    726\u001b[0m \u001b[39mreturn\u001b[39;00m InsertManyResult(inserted_ids, write_concern\u001b[39m.\u001b[39macknowledged)\n",
      "File \u001b[1;32m~\\AppData\\Roaming\\Python\\Python311\\site-packages\\pymongo\\bulk.py:514\u001b[0m, in \u001b[0;36m_Bulk.execute\u001b[1;34m(self, write_concern, session)\u001b[0m\n\u001b[0;32m    512\u001b[0m         \u001b[39mreturn\u001b[39;00m \u001b[39mNone\u001b[39;00m\n\u001b[0;32m    513\u001b[0m \u001b[39melse\u001b[39;00m:\n\u001b[1;32m--> 514\u001b[0m     \u001b[39mreturn\u001b[39;00m \u001b[39mself\u001b[39;49m\u001b[39m.\u001b[39;49mexecute_command(generator, write_concern, session)\n",
      "File \u001b[1;32m~\\AppData\\Roaming\\Python\\Python311\\site-packages\\pymongo\\bulk.py:394\u001b[0m, in \u001b[0;36m_Bulk.execute_command\u001b[1;34m(self, generator, write_concern, session)\u001b[0m\n\u001b[0;32m    391\u001b[0m     client\u001b[39m.\u001b[39m_retry_with_session(\u001b[39mself\u001b[39m\u001b[39m.\u001b[39mis_retryable, retryable_bulk, s, \u001b[39mself\u001b[39m)\n\u001b[0;32m    393\u001b[0m \u001b[39mif\u001b[39;00m full_result[\u001b[39m\"\u001b[39m\u001b[39mwriteErrors\u001b[39m\u001b[39m\"\u001b[39m] \u001b[39mor\u001b[39;00m full_result[\u001b[39m\"\u001b[39m\u001b[39mwriteConcernErrors\u001b[39m\u001b[39m\"\u001b[39m]:\n\u001b[1;32m--> 394\u001b[0m     _raise_bulk_write_error(full_result)\n\u001b[0;32m    395\u001b[0m \u001b[39mreturn\u001b[39;00m full_result\n",
      "File \u001b[1;32m~\\AppData\\Roaming\\Python\\Python311\\site-packages\\pymongo\\bulk.py:136\u001b[0m, in \u001b[0;36m_raise_bulk_write_error\u001b[1;34m(full_result)\u001b[0m\n\u001b[0;32m    134\u001b[0m \u001b[39mif\u001b[39;00m full_result[\u001b[39m\"\u001b[39m\u001b[39mwriteErrors\u001b[39m\u001b[39m\"\u001b[39m]:\n\u001b[0;32m    135\u001b[0m     full_result[\u001b[39m\"\u001b[39m\u001b[39mwriteErrors\u001b[39m\u001b[39m\"\u001b[39m]\u001b[39m.\u001b[39msort(key\u001b[39m=\u001b[39m\u001b[39mlambda\u001b[39;00m error: error[\u001b[39m\"\u001b[39m\u001b[39mindex\u001b[39m\u001b[39m\"\u001b[39m])\n\u001b[1;32m--> 136\u001b[0m \u001b[39mraise\u001b[39;00m BulkWriteError(full_result)\n",
      "\u001b[1;31mBulkWriteError\u001b[0m: batch op errors occurred, full error: {'writeErrors': [{'index': 0, 'code': 11000, 'errmsg': 'E11000 duplicate key error collection: web_db.ticket_data index: _id_ dup key: { _id: \"RU83YO\" }', 'keyPattern': {'_id': 1}, 'keyValue': {'_id': 'RU83YO'}, 'op': {'class': 'STANDARD', '_id': 'RU83YO', 'is_bought': False}}], 'writeConcernErrors': [], 'nInserted': 0, 'nUpserted': 0, 'nMatched': 0, 'nModified': 0, 'nRemoved': 0, 'upserted': []}"
     ]
    }
   ],
   "source": [
    "import gen\n",
    "\n",
    "ticket_info = {\n",
    "    \"STANDARD\": 5,\n",
    "    \"VIP\": 3,\n",
    "    \"VVIP\": 2\n",
    "}\n",
    "\n",
    "checkin = gen.Gen()\n",
    "checkin.gen(ticket_info)\n",
    "checkin.encode(type='qr', transparent=False)\n"
   ]
  }
 ],
 "metadata": {
  "kernelspec": {
   "display_name": "Python 3",
   "language": "python",
   "name": "python3"
  },
  "language_info": {
   "codemirror_mode": {
    "name": "ipython",
    "version": 3
   },
   "file_extension": ".py",
   "mimetype": "text/x-python",
   "name": "python",
   "nbconvert_exporter": "python",
   "pygments_lexer": "ipython3",
   "version": "3.11.0"
  },
  "orig_nbformat": 4
 },
 "nbformat": 4,
 "nbformat_minor": 2
}
