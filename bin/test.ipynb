{
 "cells": [
  {
   "cell_type": "code",
   "execution_count": 2,
   "metadata": {},
   "outputs": [],
   "source": [
    "from scan import CodeScanner, FaceScanner"
   ]
  },
  {
   "cell_type": "code",
   "execution_count": 6,
   "metadata": {},
   "outputs": [],
   "source": [
    "# obj1 = CodeScanner()\n",
    "\n",
    "# obj1.connect('172.16.4.204')  # Connect to remote camera with default port=4747\n",
    "# obj1.scan()  # Execute"
   ]
  },
  {
   "cell_type": "code",
   "execution_count": 3,
   "metadata": {},
   "outputs": [
    {
     "name": "stdout",
     "output_type": "stream",
     "text": [
      "Connecting to default camera...\n",
      "Connected successfully!\n",
      "duong\n",
      "duong\n"
     ]
    }
   ],
   "source": [
    "obj2 = FaceScanner()\n",
    "\n",
    "obj2.connect()  # Connect to default camera\n",
    "obj2.load_model(model_path='../notebook/trained_knn_model.clf')  # Load trained model\n",
    "obj2.scan()  # Execute"
   ]
  },
  {
   "cell_type": "code",
   "execution_count": 8,
   "metadata": {},
   "outputs": [],
   "source": [
    "from adafruit import Adafruit\n",
    "import time\n",
    "\n",
    "info = {\"username\":\"fuisl\",\n",
    "        \"key\":\"aio_Zpqj39l0FDq745LDnw1P1zuKxXXE\"}\n",
    "ada = Adafruit(info)"
   ]
  },
  {
   "cell_type": "code",
   "execution_count": null,
   "metadata": {},
   "outputs": [],
   "source": [
    "while True:\n",
    "    print(ada.fetch('paused')[0]['value'])\n",
    "    time.sleep(1)"
   ]
  },
  {
   "cell_type": "code",
   "execution_count": 1,
   "metadata": {},
   "outputs": [],
   "source": [
    "import cv2\n",
    "import base64\n",
    "from Adafruit_IO import Client, Data\n",
    "\n",
    "# Adafruit IO configuration\n",
    "ADAFRUIT_IO_KEY = \"aio_Zpqj39l0FDq745LDnw1P1zuKxXXE\"\n",
    "ADAFRUIT_IO_USERNAME = \"fuisl\"\n",
    "FEED_NAME = \"face\"\n",
    "\n",
    "# Initialize Adafruit IO client\n",
    "aio = Client(ADAFRUIT_IO_USERNAME, ADAFRUIT_IO_KEY)\n",
    "\n",
    "# Open the camera\n",
    "camera = cv2.VideoCapture(0)\n",
    "\n",
    "while True:\n",
    "    # Capture a frame from the camera\n",
    "    ret, frame = camera.read()\n",
    "\n",
    "    # Convert the frame to JPEG format as bytes\n",
    "    _, buffer = cv2.imencode(\".jpg\", frame)\n",
    "    jpg_as_bytes = buffer.tobytes()\n",
    "\n",
    "    # Encode the bytes to base64 and convert to string\n",
    "    jpg_as_text = base64.b64encode(jpg_as_bytes).decode(\"utf-8\")\n",
    "\n",
    "    # Send the frame to Adafruit IO\n",
    "    aio.send_data(FEED_NAME, jpg_as_text)\n",
    "\n",
    "    # Display the frame (optional)\n",
    "    cv2.imshow(\"Frame\", frame)\n",
    "\n",
    "    # Break the loop if 'q' key is pressed\n",
    "    if cv2.waitKey(1) & 0xFF == ord(\"q\"):\n",
    "        break\n",
    "    \n",
    "\n",
    "# Release the camera and close any OpenCV windows\n",
    "camera.release()\n",
    "cv2.destroyAllWindows()\n"
   ]
  }
 ],
 "metadata": {
  "kernelspec": {
   "display_name": "Python 3",
   "language": "python",
   "name": "python3"
  },
  "language_info": {
   "codemirror_mode": {
    "name": "ipython",
    "version": 3
   },
   "file_extension": ".py",
   "mimetype": "text/x-python",
   "name": "python",
   "nbconvert_exporter": "python",
   "pygments_lexer": "ipython3",
   "version": "3.11.0"
  },
  "orig_nbformat": 4
 },
 "nbformat": 4,
 "nbformat_minor": 2
}
