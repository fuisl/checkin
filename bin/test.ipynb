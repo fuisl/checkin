{
 "cells": [
  {
   "cell_type": "code",
   "execution_count": 5,
   "metadata": {},
   "outputs": [
    {
     "name": "stdout",
     "output_type": "stream",
     "text": [
      "Connecting to 172.16.129.173...\n",
      "Connected successfully!\n"
     ]
    }
   ],
   "source": [
    "from scan import CodeScanner\n",
    "\n",
    "scanner = CodeScanner('test')\n",
    "\n",
    "scanner.connect('192.168.137.186')\n"
   ]
  },
  {
   "cell_type": "code",
   "execution_count": 6,
   "metadata": {},
   "outputs": [
    {
     "name": "stdout",
     "output_type": "stream",
     "text": [
      "Version 2\n",
      "Version 2\n",
      "Version 4 QR Code, up to 50 char\n",
      "Version 4 QR Code, up to 50 char\n",
      "Version 4 QR Code, up to 50 char\n",
      "Version 4 QR Code, up to 50 char\n",
      "Version 4 QR Code, up to 50 char\n",
      "Version 4 QR Code, up to 50 char\n",
      "Version 3 QR Code\n",
      "Version 3 QR Code\n",
      "Version 3 QR Code\n",
      "Ver1\n",
      "Ver1\n",
      "Ver1\n",
      "Version 2\n",
      "Version 2\n",
      "Version 4 QR Code, up to 50 char\n",
      "Version 4 QR Code, up to 50 char\n",
      "Version 4 QR Code, up to 50 char\n",
      "Version 4 QR Code, up to 50 char\n"
     ]
    }
   ],
   "source": [
    "scanner.scan()"
   ]
  }
 ],
 "metadata": {
  "kernelspec": {
   "display_name": "checkin",
   "language": "python",
   "name": "python3"
  },
  "language_info": {
   "codemirror_mode": {
    "name": "ipython",
    "version": 3
   },
   "file_extension": ".py",
   "mimetype": "text/x-python",
   "name": "python",
   "nbconvert_exporter": "python",
   "pygments_lexer": "ipython3",
   "version": "3.9.18"
  }
 },
 "nbformat": 4,
 "nbformat_minor": 2
}
