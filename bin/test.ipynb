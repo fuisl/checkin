{
 "cells": [
  {
   "cell_type": "code",
   "execution_count": 3,
   "metadata": {},
   "outputs": [],
   "source": [
    "from gen import Gen\n",
    "from scan import CodeScanner"
   ]
  },
  {
   "cell_type": "code",
   "execution_count": 2,
   "metadata": {},
   "outputs": [
    {
     "name": "stdout",
     "output_type": "stream",
     "text": [
      "3 code(s) created successfully!\n",
      "Folder './qrcodes' created successfully.\n",
      "3 QRCodes created successfully!\n"
     ]
    }
   ],
   "source": [
    "g = Gen('357')  \n",
    "codes = g.gen(3)\n",
    "g.encode()"
   ]
  },
  {
   "cell_type": "code",
   "execution_count": 1,
   "metadata": {},
   "outputs": [
    {
     "name": "stdout",
     "output_type": "stream",
     "text": [
      "Pinged deployment. Successfully connected to MongoDB!\n"
     ]
    }
   ],
   "source": [
    "from updater import Updater\n",
    "u = Updater('357')"
   ]
  },
  {
   "cell_type": "code",
   "execution_count": 2,
   "metadata": {},
   "outputs": [
    {
     "ename": "TypeError",
     "evalue": "'NoneType' object is not subscriptable",
     "output_type": "error",
     "traceback": [
      "\u001b[1;31m---------------------------------------------------------------------------\u001b[0m",
      "\u001b[1;31mTypeError\u001b[0m                                 Traceback (most recent call last)",
      "\u001b[1;32mc:\\Users\\fuisl\\checkin\\bin\\test.ipynb Cell 4\u001b[0m in \u001b[0;36m1\n\u001b[1;32m----> <a href='vscode-notebook-cell:/c%3A/Users/fuisl/checkin/bin/test.ipynb#W3sZmlsZQ%3D%3D?line=0'>1</a>\u001b[0m names \u001b[39m=\u001b[39m u\u001b[39m.\u001b[39;49mget_user_info(\u001b[39m'\u001b[39;49m\u001b[39mQPMCZI\u001b[39;49m\u001b[39m'\u001b[39;49m)\n\u001b[0;32m      <a href='vscode-notebook-cell:/c%3A/Users/fuisl/checkin/bin/test.ipynb#W3sZmlsZQ%3D%3D?line=1'>2</a>\u001b[0m \u001b[39mprint\u001b[39m(names)\n",
      "File \u001b[1;32mc:\\Users\\fuisl\\checkin\\bin\\updater.py:107\u001b[0m, in \u001b[0;36mUpdater.get_user_info\u001b[1;34m(self, code)\u001b[0m\n\u001b[0;32m    104\u001b[0m \u001b[39mdef\u001b[39;00m \u001b[39mget_user_info\u001b[39m(\u001b[39mself\u001b[39m, code):  \u001b[39m# get user_info from code\u001b[39;00m\n\u001b[0;32m    105\u001b[0m     user \u001b[39m=\u001b[39m \u001b[39mself\u001b[39m\u001b[39m.\u001b[39mdb[\u001b[39m'\u001b[39m\u001b[39mticket\u001b[39m\u001b[39m'\u001b[39m]\u001b[39m.\u001b[39mfind_one({\u001b[39m'\u001b[39m\u001b[39mcode\u001b[39m\u001b[39m'\u001b[39m:code}, {\u001b[39m'\u001b[39m\u001b[39muser_id\u001b[39m\u001b[39m'\u001b[39m:\u001b[39m1\u001b[39m})\n\u001b[1;32m--> 107\u001b[0m     info \u001b[39m=\u001b[39m \u001b[39mself\u001b[39m\u001b[39m.\u001b[39mdb[\u001b[39m'\u001b[39m\u001b[39muser_info\u001b[39m\u001b[39m'\u001b[39m]\u001b[39m.\u001b[39mfind({\u001b[39m'\u001b[39m\u001b[39muser_id\u001b[39m\u001b[39m'\u001b[39m:user[\u001b[39m'\u001b[39;49m\u001b[39muser_id\u001b[39;49m\u001b[39m'\u001b[39;49m]}, {\u001b[39m'\u001b[39m\u001b[39m_id\u001b[39m\u001b[39m'\u001b[39m:\u001b[39m0\u001b[39m})\n\u001b[0;32m    109\u001b[0m     \u001b[39mreturn\u001b[39;00m \u001b[39mlist\u001b[39m(info)[\u001b[39m0\u001b[39m]\n",
      "\u001b[1;31mTypeError\u001b[0m: 'NoneType' object is not subscriptable"
     ]
    }
   ],
   "source": [
    "names = u.get_user_info('QPMCZI')\n",
    "print(names)"
   ]
  },
  {
   "cell_type": "code",
   "execution_count": 4,
   "metadata": {},
   "outputs": [],
   "source": [
    "user_info = {'user_id': '10422021',\n",
    "        'name': 'Tran Hai Duong',\n",
    "        'email': '10422021@student.vgu.edu.vn'}\n",
    "\n",
    "u.add_user_info(user_info)"
   ]
  },
  {
   "cell_type": "code",
   "execution_count": 5,
   "metadata": {},
   "outputs": [],
   "source": [
    "u.add_ticket_info_many(codes)"
   ]
  },
  {
   "cell_type": "code",
   "execution_count": 6,
   "metadata": {},
   "outputs": [],
   "source": [
    "u.assign_ticket('10422021')"
   ]
  },
  {
   "cell_type": "code",
   "execution_count": 7,
   "metadata": {},
   "outputs": [],
   "source": [
    "u.register_one('10422021')"
   ]
  },
  {
   "cell_type": "code",
   "execution_count": 4,
   "metadata": {},
   "outputs": [],
   "source": [
    "u.update('QPMCZI')"
   ]
  },
  {
   "cell_type": "code",
   "execution_count": 4,
   "metadata": {},
   "outputs": [
    {
     "name": "stdout",
     "output_type": "stream",
     "text": [
      "Pinged deployment. Successfully connected to MongoDB!\n"
     ]
    }
   ],
   "source": [
    "c = CodeScanner(\"lunch1\")  # for staff"
   ]
  },
  {
   "cell_type": "code",
   "execution_count": 5,
   "metadata": {},
   "outputs": [
    {
     "name": "stdout",
     "output_type": "stream",
     "text": [
      "Connecting to default camera...\n",
      "Connected successfully!\n"
     ]
    }
   ],
   "source": [
    "c.connect()"
   ]
  },
  {
   "cell_type": "code",
   "execution_count": 6,
   "metadata": {},
   "outputs": [
    {
     "name": "stdout",
     "output_type": "stream",
     "text": [
      "0LYC3D\n"
     ]
    }
   ],
   "source": [
    "c.scan()"
   ]
  },
  {
   "cell_type": "code",
   "execution_count": 2,
   "metadata": {},
   "outputs": [
    {
     "data": {
      "text/plain": [
       "(221,\n",
       " b'2.0.0 closing connection i20-20020a633c54000000b00566095dac12sm218631pgn.19 - gsmtp')"
      ]
     },
     "execution_count": 2,
     "metadata": {},
     "output_type": "execute_result"
    }
   ],
   "source": [
    "import smtplib\n",
    "from email.mime.multipart import MIMEMultipart\n",
    "from email.mime.text import MIMEText\n",
    "from email.mime.image import MIMEImage\n",
    "\n",
    "# Compose email\n",
    "msg = MIMEMultipart()\n",
    "msg['From'] = 'fuisloy@gmail.com'\n",
    "msg['To'] = '10422021@student.vgu.edu.vn'\n",
    "msg['Subject'] = '[no-reply] KHOI FEST 2023 - Ticket'\n",
    "\n",
    "# Attach HTML body\n",
    "with open('khoi23/khoi23.html', 'r') as f:\n",
    "    email_body = f.read()\n",
    "msg.attach(MIMEText(email_body, 'html'))\n",
    "\n",
    "# Connect to SMTP server and send email\n",
    "server = smtplib.SMTP('smtp.gmail.com', 587)\n",
    "server.starttls()\n",
    "server.login('fuisloy@gmail.com', 'zzsfmfvfposwxqwh')\n",
    "server.sendmail('fuisloy@gmail.com', '10422021@student.vgu.edu.vn', msg.as_string()\n",
    "server.quit()\n"
   ]
  },
  {
   "cell_type": "code",
   "execution_count": 2,
   "metadata": {},
   "outputs": [
    {
     "data": {
      "text/plain": [
       "(221,\n",
       " b'2.0.0 closing connection ev11-20020a17090aeacb00b0026930a0419bsm2707747pjb.0 - gsmtp')"
      ]
     },
     "execution_count": 2,
     "metadata": {},
     "output_type": "execute_result"
    }
   ],
   "source": [
    "import smtplib\n",
    "\n",
    "from email.mime.multipart import MIMEMultipart\n",
    "from email.mime.text import MIMEText\n",
    "\n",
    "# me == my email address\n",
    "# you == recipient's email address\n",
    "me = \"fuisloy@gmail.com\"\n",
    "you = \"10422021@student.vgu.edu.vn\"\n",
    "\n",
    "# Create message container - the correct MIME type is multipart/alternative.\n",
    "msg = MIMEMultipart('alternative')\n",
    "msg['Subject'] = \"Link\"\n",
    "msg['From'] = me\n",
    "msg['To'] = you\n",
    "\n",
    "# Create the body of the message (a plain-text and an HTML version).\n",
    "html = \"\"\"\n",
    "\n",
    "\"\"\"\n",
    "\n",
    "# Record the MIME types of both parts - text/plain and text/html.\n",
    "part2 = MIMEText(html, 'html')\n",
    "\n",
    "# Attach parts into message container.\n",
    "# According to RFC 2046, the last part of a multipart message, in this case\n",
    "# the HTML message, is best and preferred.\n",
    "msg.attach(part2)\n",
    "\n",
    "# Send the message via local SMTP server.\n",
    "mail = smtplib.SMTP('smtp.gmail.com', 587)\n",
    "\n",
    "mail.ehlo()\n",
    "\n",
    "mail.starttls()\n",
    "\n",
    "mail.login('fuisloy@gmail.com', 'zzsfmfvfposwxqwh')\n",
    "mail.sendmail(me, you, msg.as_string())\n",
    "mail.quit()"
   ]
  }
 ],
 "metadata": {
  "kernelspec": {
   "display_name": "Python 3",
   "language": "python",
   "name": "python3"
  },
  "language_info": {
   "codemirror_mode": {
    "name": "ipython",
    "version": 3
   },
   "file_extension": ".py",
   "mimetype": "text/x-python",
   "name": "python",
   "nbconvert_exporter": "python",
   "pygments_lexer": "ipython3",
   "version": "3.11.0"
  },
  "orig_nbformat": 4
 },
 "nbformat": 4,
 "nbformat_minor": 2
}
