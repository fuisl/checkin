{
 "cells": [
  {
   "cell_type": "code",
   "execution_count": 2,
   "metadata": {},
   "outputs": [
    {
     "name": "stdout",
     "output_type": "stream",
     "text": [
      "228 code(s) created successfully!\n"
     ]
    }
   ],
   "source": [
    "from gen import Gen\n",
    "\n",
    "buyer_info = {\n",
    "    'name': 'Truong Hao Nhien',\n",
    "    'email': 'truonghaonhien2822004@gmail.com',\n",
    "    'phone': '0839372991',\n",
    "    'seats': ['B13', 'B14']\n",
    "}\n",
    "\n",
    "ticket_info = {\n",
    "    'vvip': 32,\n",
    "    'vip': 56,\n",
    "    'norm_center': 42,\n",
    "    'norm_rear': 98\n",
    "}\n",
    "\n",
    "codes = Gen('checkin_presto').gen(228)"
   ]
  },
  {
   "cell_type": "code",
   "execution_count": 3,
   "metadata": {},
   "outputs": [],
   "source": [
    "from database import Database, GenerateTicketInfo\n",
    "\n",
    "# ticket = GenerateTicketInfo(ticket_info, codes).generate_tickets()\n",
    "# db = Database(ticket)\n",
    "\n",
    "db = Database()"
   ]
  },
  {
   "cell_type": "code",
   "execution_count": 3,
   "metadata": {},
   "outputs": [
    {
     "name": "stdout",
     "output_type": "stream",
     "text": [
      "Creating database with 228 tickets in 'tickets' collection.\n"
     ]
    }
   ],
   "source": [
    "db.create_database()"
   ]
  },
  {
   "cell_type": "code",
   "execution_count": 4,
   "metadata": {},
   "outputs": [
    {
     "name": "stdout",
     "output_type": "stream",
     "text": [
      "Adding [{'_id': '1FRDR8', 'name': 'Truong Hao Nhien', 'email': 'truonghaonhien2822004@gmail.com', 'phone': '0839372991', 'seat': 'B13', 'class': 'VIP', 'checked_in': False}, {'_id': '6NIS2N', 'name': 'Truong Hao Nhien', 'email': 'truonghaonhien2822004@gmail.com', 'phone': '0839372991', 'seat': 'B14', 'class': 'VIP', 'checked_in': False}] to database.\n",
      "Inserted 2 documents.\n"
     ]
    }
   ],
   "source": [
    "db.buy_ticket(buyer_info)"
   ]
  }
 ],
 "metadata": {
  "kernelspec": {
   "display_name": "checkin",
   "language": "python",
   "name": "python3"
  },
  "language_info": {
   "codemirror_mode": {
    "name": "ipython",
    "version": 3
   },
   "file_extension": ".py",
   "mimetype": "text/x-python",
   "name": "python",
   "nbconvert_exporter": "python",
   "pygments_lexer": "ipython3",
   "version": "3.9.18"
  }
 },
 "nbformat": 4,
 "nbformat_minor": 2
}
