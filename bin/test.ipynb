{
 "cells": [
  {
   "cell_type": "code",
   "execution_count": 1,
   "metadata": {},
   "outputs": [],
   "source": [
    "from scan import CodeScanner, FaceScanner"
   ]
  },
  {
   "cell_type": "code",
   "execution_count": 2,
   "metadata": {},
   "outputs": [
    {
     "name": "stdout",
     "output_type": "stream",
     "text": [
      "Connecting to default camera...\n",
      "Connected successfully!\n",
      "Connected to Adafruit IO!\n",
      "Connected to Adafruit IO!  Listening for fuisl changes...\n",
      "Subscribed!\n",
      "Subscribed!\n",
      "0A5YB6\n",
      "Feed paused received new value: 1\n"
     ]
    }
   ],
   "source": [
    "obj1 = CodeScanner()\n",
    "\n",
    "obj1.connect()  # Connect to remote camera with default port=4747\n",
    "obj1.scan()  # Execute"
   ]
  },
  {
   "cell_type": "code",
   "execution_count": null,
   "metadata": {},
   "outputs": [],
   "source": [
    "# obj2 = FaceScanner()\n",
    "\n",
    "# obj2.connect()  # Connect to default camera\n",
    "# obj2.load_model(model_path='../notebook/trained_knn_model.clf')  # Load trained model\n",
    "# obj2.scan()  # Execute"
   ]
  },
  {
   "cell_type": "code",
   "execution_count": 1,
   "metadata": {},
   "outputs": [],
   "source": [
    "from adafruit import Adafruit\n",
    "info = {\"username\":\"fuisl\",\n",
    "        \"key\":\"aio_Zpqj39l0FDq745LDnw1P1zuKxXXE\"}\n",
    "ada = Adafruit(info)"
   ]
  },
  {
   "cell_type": "code",
   "execution_count": null,
   "metadata": {},
   "outputs": [],
   "source": [
    "ada.connect()"
   ]
  }
 ],
 "metadata": {
  "kernelspec": {
   "display_name": "Python 3",
   "language": "python",
   "name": "python3"
  },
  "language_info": {
   "codemirror_mode": {
    "name": "ipython",
    "version": 3
   },
   "file_extension": ".py",
   "mimetype": "text/x-python",
   "name": "python",
   "nbconvert_exporter": "python",
   "pygments_lexer": "ipython3",
   "version": "3.11.0"
  },
  "orig_nbformat": 4
 },
 "nbformat": 4,
 "nbformat_minor": 2
}
