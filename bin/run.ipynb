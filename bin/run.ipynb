{
 "cells": [
  {
   "cell_type": "code",
   "execution_count": 1,
   "metadata": {},
   "outputs": [],
   "source": [
    "from scan import *\n",
    "from gen import Gen\n",
    "from scan import FaceScanner, CodeScanner\n"
   ]
  },
  {
   "cell_type": "code",
   "execution_count": 2,
   "metadata": {},
   "outputs": [],
   "source": [
    "c1 = CodeScanner()"
   ]
  },
  {
   "cell_type": "code",
   "execution_count": 3,
   "metadata": {},
   "outputs": [
    {
     "name": "stdout",
     "output_type": "stream",
     "text": [
      "Connecting to default camera...\n",
      "Connected successfully!\n"
     ]
    }
   ],
   "source": [
    "c1.connect()"
   ]
  },
  {
   "cell_type": "code",
   "execution_count": 5,
   "metadata": {},
   "outputs": [
    {
     "ename": "TypeError",
     "evalue": "CodeDetect.detect() missing 1 required positional argument: 'frame'",
     "output_type": "error",
     "traceback": [
      "\u001b[1;31m---------------------------------------------------------------------------\u001b[0m",
      "\u001b[1;31mTypeError\u001b[0m                                 Traceback (most recent call last)",
      "\u001b[1;32mc:\\Users\\fuisl\\checkin\\bin\\run.ipynb Cell 4\u001b[0m in \u001b[0;36m9\n\u001b[0;32m      <a href='vscode-notebook-cell:/c%3A/Users/fuisl/checkin/bin/run.ipynb#X12sZmlsZQ%3D%3D?line=6'>7</a>\u001b[0m \u001b[39mif\u001b[39;00m paused \u001b[39m==\u001b[39m \u001b[39mFalse\u001b[39;00m:\n\u001b[0;32m      <a href='vscode-notebook-cell:/c%3A/Users/fuisl/checkin/bin/run.ipynb#X12sZmlsZQ%3D%3D?line=7'>8</a>\u001b[0m     paused \u001b[39m=\u001b[39m \u001b[39mTrue\u001b[39;00m  \u001b[39m# switch statement for pausing camera\u001b[39;00m\n\u001b[1;32m----> <a href='vscode-notebook-cell:/c%3A/Users/fuisl/checkin/bin/run.ipynb#X12sZmlsZQ%3D%3D?line=8'>9</a>\u001b[0m     \u001b[39mprint\u001b[39m(c1\u001b[39m.\u001b[39;49mdetect())\n\u001b[0;32m     <a href='vscode-notebook-cell:/c%3A/Users/fuisl/checkin/bin/run.ipynb#X12sZmlsZQ%3D%3D?line=10'>11</a>\u001b[0m c1\u001b[39m.\u001b[39mdraw(frame)\n\u001b[0;32m     <a href='vscode-notebook-cell:/c%3A/Users/fuisl/checkin/bin/run.ipynb#X12sZmlsZQ%3D%3D?line=11'>12</a>\u001b[0m cv2\u001b[39m.\u001b[39mimshow(\u001b[39m\"\u001b[39m\u001b[39mCamera 1\u001b[39m\u001b[39m\"\u001b[39m, frame)\n",
      "\u001b[1;31mTypeError\u001b[0m: CodeDetect.detect() missing 1 required positional argument: 'frame'"
     ]
    }
   ],
   "source": [
    "paused = False\n",
    "\n",
    "while True:\n",
    "    ret, frame = c1.cap.read()\n",
    "\n",
    "    if ret:\n",
    "        if paused == False:\n",
    "            paused = True  # switch statement for pausing camera\n",
    "            print(c1.detect(frame))\n",
    "\n",
    "        c1.draw(frame)\n",
    "        cv2.imshow(\"Camera 1\", frame)\n",
    "\n",
    "    key = cv2.waitKey(1)\n",
    "\n",
    "    if key == 27:  # exit if ESC is pressed\n",
    "        break\n",
    "    elif key == 48:  # continue if '0' is pressed\n",
    "        paused = False\n",
    "\n",
    "    del c1\n",
    "    cv2.destroyAllWindows()\n"
   ]
  }
 ],
 "metadata": {
  "kernelspec": {
   "display_name": "Python 3",
   "language": "python",
   "name": "python3"
  },
  "language_info": {
   "codemirror_mode": {
    "name": "ipython",
    "version": 3
   },
   "file_extension": ".py",
   "mimetype": "text/x-python",
   "name": "python",
   "nbconvert_exporter": "python",
   "pygments_lexer": "ipython3",
   "version": "3.11.0"
  },
  "orig_nbformat": 4
 },
 "nbformat": 4,
 "nbformat_minor": 2
}
