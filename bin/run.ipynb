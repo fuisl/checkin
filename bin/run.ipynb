{
 "cells": [
  {
   "cell_type": "code",
   "execution_count": 1,
   "metadata": {},
   "outputs": [],
   "source": [
    "from scan import *\n",
    "from gen import Gen\n",
    "from scan import FaceScanner, CodeScanner\n"
   ]
  },
  {
   "cell_type": "code",
   "execution_count": null,
   "metadata": {},
   "outputs": [],
   "source": [
    "c1 = CodeScanner()\n",
    "c1.connect('172.16.4.204')\n",
    "\n",
    "paused = False\n",
    "\n",
    "while True:\n",
    "    ret, frame = c1.cap.read()\n",
    "\n",
    "    if ret:\n",
    "        codes = c1.detect(frame)\n",
    "        if (paused == False) & (codes != None):\n",
    "            paused = True  # switch statement for pausing camera\n",
    "            print(codes[0])\n",
    "\n",
    "        c1.draw(frame)\n",
    "        cv2.imshow(\"Camera 1\", frame)\n",
    "\n",
    "    key = cv2.waitKey(1)\n",
    "\n",
    "    if key == 27:  # exit if ESC is pressed\n",
    "        break\n",
    "    elif key == 48:  # continue if '0' is pressed\n",
    "        paused = False\n",
    "\n",
    "del c1\n",
    "cv2.destroyAllWindows()\n"
   ]
  },
  {
   "cell_type": "code",
   "execution_count": 2,
   "metadata": {},
   "outputs": [
    {
     "name": "stdout",
     "output_type": "stream",
     "text": [
      "Connecting to default camera...\n",
      "Connected successfully!\n",
      "duong\n"
     ]
    }
   ],
   "source": [
    "c2 = FaceScanner()\n",
    "c2.connect()\n",
    "\n",
    "paused = False\n",
    "\n",
    "switch = 14\n",
    "while True:\n",
    "    ret, frame = c2.cap.read()\n",
    "\n",
    "    if ret:\n",
    "        # Resize\n",
    "        frame_small = cv2.resize(frame, (0, 0), fx=0.5, fy=0.5)\n",
    "\n",
    "        switch += 1\n",
    "        # process image for every 15 frams\n",
    "        if switch % 15 == 0:\n",
    "            faces = c2.detect(frame_small, model_path='../notebook/trained_knn_model.clf')\n",
    "        \n",
    "        if faces:  # if any face detected\n",
    "            if (faces[0][0] != 'unknown') & (paused == False):\n",
    "                paused = True\n",
    "                print(faces[0][0])\n",
    "\n",
    "        frame = c2.draw(frame, faces)\n",
    "\n",
    "        cv2.imshow('Camera 2', frame)\n",
    "\n",
    "    key = cv2.waitKey(1)\n",
    "\n",
    "    if key == 27:  # exit if ESC is pressed\n",
    "        break\n",
    "    elif key == 48:  # continue if '0' is pressed\n",
    "        paused = False\n",
    "\n",
    "del c2\n",
    "cv2.destroyAllWindows()"
   ]
  }
 ],
 "metadata": {
  "kernelspec": {
   "display_name": "Python 3",
   "language": "python",
   "name": "python3"
  },
  "language_info": {
   "codemirror_mode": {
    "name": "ipython",
    "version": 3
   },
   "file_extension": ".py",
   "mimetype": "text/x-python",
   "name": "python",
   "nbconvert_exporter": "python",
   "pygments_lexer": "ipython3",
   "version": "3.11.0"
  },
  "orig_nbformat": 4
 },
 "nbformat": 4,
 "nbformat_minor": 2
}
