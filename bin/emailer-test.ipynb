{
 "cells": [
  {
   "cell_type": "code",
   "execution_count": 8,
   "metadata": {},
   "outputs": [],
   "source": [
    "from emailer import Emailer\n",
    "import os\n",
    "\n",
    "\n",
    "emailer = Emailer(template=\"./template/ied23.html\", qr_path=\"./qrcodes/\")\n",
    "passkey = os.getenv(\"MAIL_PASSKEY\")\n",
    "emailer.login(\"presto@vgu.edu.vn\", passkey, test_email=\"10422021@student.vgu.edu.vn\")"
   ]
  },
  {
   "cell_type": "code",
   "execution_count": 7,
   "metadata": {},
   "outputs": [
    {
     "name": "stdout",
     "output_type": "stream",
     "text": [
      "Sending email to 10422062@student.vgu.edu.vn...\n",
      "Sending email to 10422062@student.vgu.edu.vn...\n",
      "Sending email to 10422062@student.vgu.edu.vn...\n",
      "Sending email to 10422062@student.vgu.edu.vn...\n",
      "Sending email to 10422062@student.vgu.edu.vn...\n",
      "Sending email to 10422062@student.vgu.edu.vn...\n",
      "Sending email to 10422062@student.vgu.edu.vn...\n",
      "Sending email to 10422062@student.vgu.edu.vn...\n",
      "Sending email to 10422062@student.vgu.edu.vn...\n",
      "Sending email to 10422062@student.vgu.edu.vn...\n"
     ]
    },
    {
     "data": {
      "text/plain": [
       "0"
      ]
     },
     "execution_count": 7,
     "metadata": {},
     "output_type": "execute_result"
    }
   ],
   "source": [
    "info = [\n",
    "    {\n",
    "        \"subject\": \"Test email\",\n",
    "        \"name\": \"Hai Duong\",\n",
    "        \"to\": \"10422021@student.vgu.edu.vn\",\n",
    "        \"code\": \"CONCAC\",\n",
    "    },\n",
    "    {\n",
    "        \"subject\": \"IED Test\",\n",
    "        \"name\": \"Hao Nhien\",\n",
    "        \"to\": \"10422062@student.vgu.edu.vn\",\n",
    "        \"code\": \"CONCAC\",\n",
    "    }, \n",
    "]\n",
    "\n",
    "# test = [{\"subject\": f\"Spam email {i}\", \"name\": \"Hao Nhien\", \"to\": \"10422062@student.vgu.edu.vn\", \"code\": \"CONCAC\"} for i in range(10)]\n",
    "\n",
    "emailer.send_many(info)"
   ]
  },
  {
   "cell_type": "code",
   "execution_count": 4,
   "metadata": {},
   "outputs": [
    {
     "name": "stdout",
     "output_type": "stream",
     "text": [
      "Sending email to 10422021@student.vgu.edu.vn...\n"
     ]
    }
   ],
   "source": [
    "info = {\n",
    "        \"subject\": \"Test email\",\n",
    "        \"name\": \"Hai Duong\",\n",
    "        \"to\": \"10422021@student.vgu.edu.vn\",\n",
    "        \"code\": \"CONCAC\",\n",
    "    }\n",
    "\n",
    "emailer.send_one(info)"
   ]
  }
 ],
 "metadata": {
  "kernelspec": {
   "display_name": "checkin",
   "language": "python",
   "name": "python3"
  },
  "language_info": {
   "codemirror_mode": {
    "name": "ipython",
    "version": 3
   },
   "file_extension": ".py",
   "mimetype": "text/x-python",
   "name": "python",
   "nbconvert_exporter": "python",
   "pygments_lexer": "ipython3",
   "version": "3.9.18"
  }
 },
 "nbformat": 4,
 "nbformat_minor": 2
}
