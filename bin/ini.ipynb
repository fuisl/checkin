{
 "cells": [
  {
   "cell_type": "code",
   "execution_count": 1,
   "metadata": {},
   "outputs": [
    {
     "name": "stdout",
     "output_type": "stream",
     "text": [
      "Pinged deployment. Successfully connected to MongoDB!\n"
     ]
    }
   ],
   "source": [
    "from updater import Updater\n",
    "u = Updater('ied-test')"
   ]
  },
  {
   "cell_type": "code",
   "execution_count": 1,
   "metadata": {},
   "outputs": [],
   "source": [
    "major_list = ['CSE', 'BBA', 'BFA', 'ECE', 'MEN', 'ARC', 'BCE']\n",
    "intake_list = ['2023', '2022', '2021', '2020', '2019']\n",
    "\n",
    "final_list = [m + i for m in major_list for i in intake_list]\n",
    "for i in final_list:\n",
    "    user_info = {'user_id': i,\n",
    "            'name': i,\n",
    "            'email': i+'@vgu.edu.vn'}\n",
    "\n",
    "\n"
   ]
  },
  {
   "cell_type": "code",
   "execution_count": 5,
   "metadata": {},
   "outputs": [],
   "source": [
    "u.add_ticket_info_many(final_list)"
   ]
  },
  {
   "cell_type": "code",
   "execution_count": 6,
   "metadata": {},
   "outputs": [],
   "source": [
    "for i in final_list:\n",
    "    u.assign_ticket(i)"
   ]
  },
  {
   "cell_type": "code",
   "execution_count": 7,
   "metadata": {},
   "outputs": [],
   "source": [
    "for i in final_list:\n",
    "    u.register_one(i)"
   ]
  },
  {
   "cell_type": "code",
   "execution_count": 2,
   "metadata": {},
   "outputs": [],
   "source": [
    "info = {\n",
    "    \"from\": \"presto@vgu.edu.vn\",\n",
    "    \"to\":\"10422021@student.vgu.edu.vn\",\n",
    "    \"subject\": \"[IED23] Entrance Ticket\",\n",
    "    \"template\": \"ied23.html\",\n",
    "    \"name\": \"CSE2022\",\n",
    "    \"number\": \"#CSE2022\",\n",
    "    \"code\": \"CSE2022\",\n",
    "    \"key\": \"yfatdzsmgfhtokzk\"\n",
    "    }\n"
   ]
  },
  {
   "cell_type": "code",
   "execution_count": 37,
   "metadata": {},
   "outputs": [
    {
     "name": "stdout",
     "output_type": "stream",
     "text": [
      "{'from': 'presto@vgu.edu.vn', 'to': 'BCE2019@vgu.edu.vn', 'subject': '[IED23] Entrance Ticket', 'template': 'ied23.html', 'name': 'BCE2019', 'number': '#BCE2019', 'code': 'BCE2019', 'key': 'yfatdzsmgfhtokzk'}\n"
     ]
    }
   ],
   "source": [
    "from emailer import *\n",
    "\n",
    "major_list = ['CSE', 'BBA', 'BFA', 'ECE', 'MEN', 'ARC', 'BCE']\n",
    "intake_list = ['2023', '2022', '2021', '2020', '2019']\n",
    "\n",
    "i = 'BCE2019'\n",
    "\n",
    "info = {\n",
    "    \"from\": \"presto@vgu.edu.vn\",\n",
    "    \"to\":i+\"@vgu.edu.vn\",\n",
    "    \"subject\": \"[IED23] Entrance Ticket\",\n",
    "    \"template\": \"ied23.html\",\n",
    "    \"name\": i,\n",
    "    \"number\": '#'+i,\n",
    "    \"code\": i,\n",
    "    \"key\": \"yfatdzsmgfhtokzk\"\n",
    "    }\n",
    "    \n",
    "print(info)\n",
    "\n",
    "send_email(info)"
   ]
  }
 ],
 "metadata": {
  "kernelspec": {
   "display_name": "Python 3",
   "language": "python",
   "name": "python3"
  },
  "language_info": {
   "codemirror_mode": {
    "name": "ipython",
    "version": 3
   },
   "file_extension": ".py",
   "mimetype": "text/x-python",
   "name": "python",
   "nbconvert_exporter": "python",
   "pygments_lexer": "ipython3",
   "version": "3.11.0"
  },
  "orig_nbformat": 4
 },
 "nbformat": 4,
 "nbformat_minor": 2
}
