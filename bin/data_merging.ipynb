{
 "cells": [
  {
   "cell_type": "code",
   "execution_count": 12,
   "metadata": {},
   "outputs": [
    {
     "data": {
      "text/html": [
       "<div>\n",
       "<style scoped>\n",
       "    .dataframe tbody tr th:only-of-type {\n",
       "        vertical-align: middle;\n",
       "    }\n",
       "\n",
       "    .dataframe tbody tr th {\n",
       "        vertical-align: top;\n",
       "    }\n",
       "\n",
       "    .dataframe thead th {\n",
       "        text-align: right;\n",
       "    }\n",
       "</style>\n",
       "<table border=\"1\" class=\"dataframe\">\n",
       "  <thead>\n",
       "    <tr style=\"text-align: right;\">\n",
       "      <th></th>\n",
       "      <th>_id</th>\n",
       "      <th>class</th>\n",
       "      <th>seat</th>\n",
       "    </tr>\n",
       "  </thead>\n",
       "  <tbody>\n",
       "    <tr>\n",
       "      <th>0</th>\n",
       "      <td>BNA0TX</td>\n",
       "      <td>SVIP</td>\n",
       "      <td>svip1</td>\n",
       "    </tr>\n",
       "    <tr>\n",
       "      <th>1</th>\n",
       "      <td>2LYJXI</td>\n",
       "      <td>SVIP</td>\n",
       "      <td>svip2</td>\n",
       "    </tr>\n",
       "    <tr>\n",
       "      <th>2</th>\n",
       "      <td>CH8IBU</td>\n",
       "      <td>SVIP</td>\n",
       "      <td>svip3</td>\n",
       "    </tr>\n",
       "    <tr>\n",
       "      <th>3</th>\n",
       "      <td>5Z0VV4</td>\n",
       "      <td>SVIP</td>\n",
       "      <td>svip4</td>\n",
       "    </tr>\n",
       "    <tr>\n",
       "      <th>4</th>\n",
       "      <td>4K0HI9</td>\n",
       "      <td>SVIP</td>\n",
       "      <td>svip5</td>\n",
       "    </tr>\n",
       "  </tbody>\n",
       "</table>\n",
       "</div>"
      ],
      "text/plain": [
       "      _id class   seat\n",
       "0  BNA0TX  SVIP  svip1\n",
       "1  2LYJXI  SVIP  svip2\n",
       "2  CH8IBU  SVIP  svip3\n",
       "3  5Z0VV4  SVIP  svip4\n",
       "4  4K0HI9  SVIP  svip5"
      ]
     },
     "execution_count": 12,
     "metadata": {},
     "output_type": "execute_result"
    }
   ],
   "source": [
    "import pandas as pd\n",
    "\n",
    "df = pd.read_csv(\"official_ticket_info_phase_1.csv\", index_col=0)\n",
    "df = df.drop(columns=[\"is_bought\"])\n",
    "df.head()"
   ]
  },
  {
   "cell_type": "code",
   "execution_count": null,
   "metadata": {},
   "outputs": [],
   "source": [
    "from gen import Gen\n",
    "\n",
    "gen_obj = Gen(\"checkin_presto\")\n",
    "gen_obj.gen(230)\n",
    "# gen_obj.encode(transparent=True)"
   ]
  },
  {
   "cell_type": "code",
   "execution_count": 14,
   "metadata": {},
   "outputs": [],
   "source": [
    "df[\"@qrcode_path\"] = \"C:\\\\Users\\\\fuisl\\\\OneDrive\\\\Desktop\\\\qrcodes\\\\\" + df[\"_id\"] + \".png\""
   ]
  },
  {
   "cell_type": "code",
   "execution_count": 15,
   "metadata": {},
   "outputs": [],
   "source": [
    "svip = df[df[\"class\"] == \"SVIP\"]  # dau thang"
   ]
  },
  {
   "cell_type": "code",
   "execution_count": 16,
   "metadata": {},
   "outputs": [],
   "source": [
    "vip = df[df[\"class\"] == \"VIP\"]  # dau giang"
   ]
  },
  {
   "cell_type": "code",
   "execution_count": 17,
   "metadata": {},
   "outputs": [],
   "source": [
    "norm_center = df[df[\"class\"] == \"NORM_CENTER\"]  # dau luu"
   ]
  },
  {
   "cell_type": "code",
   "execution_count": 18,
   "metadata": {},
   "outputs": [],
   "source": [
    "norm_rear = df[df[\"class\"] == \"NORM_REAR\"]  # dau luyen"
   ]
  },
  {
   "cell_type": "code",
   "execution_count": null,
   "metadata": {},
   "outputs": [],
   "source": [
    "vip[\"row\"] = vip[\"seat\"].apply(lambda x: x[0])\n",
    "vip[\"seat_num\"] = vip[\"seat\"].apply(lambda x: x[1:])\n",
    "vip.to_csv(\"daugiang.csv\", index=False)"
   ]
  },
  {
   "cell_type": "code",
   "execution_count": null,
   "metadata": {},
   "outputs": [],
   "source": [
    "norm_center[\"row\"] = norm_center[\"seat\"].apply(lambda x: x[0])\n",
    "norm_center[\"seat_num\"] = norm_center[\"seat\"].apply(lambda x: x[1:])\n",
    "norm_center.to_csv(\"dauluu.csv\", index=False)"
   ]
  },
  {
   "cell_type": "code",
   "execution_count": null,
   "metadata": {},
   "outputs": [],
   "source": [
    "norm_rear[\"row\"] = norm_rear[\"seat\"].apply(lambda x: x[0])\n",
    "norm_rear[\"seat_num\"] = norm_rear[\"seat\"].apply(lambda x: x[1:])\n",
    "norm_rear.to_csv(\"dauluyen.csv\", index=False)"
   ]
  },
  {
   "cell_type": "code",
   "execution_count": null,
   "metadata": {},
   "outputs": [],
   "source": [
    "svip[\"row\"] = \"#\"\n",
    "svip[\"seat_num\"] = list(range(1, 15))\n",
    "svip.to_csv(\"dauthang.csv\", index=False)"
   ]
  }
 ],
 "metadata": {
  "kernelspec": {
   "display_name": "checkin",
   "language": "python",
   "name": "python3"
  },
  "language_info": {
   "codemirror_mode": {
    "name": "ipython",
    "version": 3
   },
   "file_extension": ".py",
   "mimetype": "text/x-python",
   "name": "python",
   "nbconvert_exporter": "python",
   "pygments_lexer": "ipython3",
   "version": "3.9.18"
  }
 },
 "nbformat": 4,
 "nbformat_minor": 2
}
