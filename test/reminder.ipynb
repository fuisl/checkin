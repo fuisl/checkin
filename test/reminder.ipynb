{
 "cells": [
  {
   "cell_type": "code",
   "execution_count": 12,
   "metadata": {},
   "outputs": [
    {
     "data": {
      "text/plain": [
       "{}"
      ]
     },
     "execution_count": 12,
     "metadata": {},
     "output_type": "execute_result"
    }
   ],
   "source": [
    "from email.mime.multipart import MIMEMultipart\n",
    "from email.mime.text import MIMEText\n",
    "from email.mime.image import MIMEImage\n",
    "import smtplib\n",
    "import os\n",
    "\n",
    "server = smtplib.SMTP(\"smtp.gmail.com\", 587)\n",
    "server.ehlo()\n",
    "server.starttls()\n",
    "# passkey = os.getenv(\"MAIL_PASSKEY\")\n",
    "server.login(\"\", \"\")\n",
    "server.sendmail(\"\", \"\", \"Server is ready\")"
   ]
  },
  {
   "cell_type": "code",
   "execution_count": null,
   "metadata": {},
   "outputs": [],
   "source": [
    "msg = MIMEMultipart()\n",
    "msg[\"Subject\"] = \"[PRESTO] REMINDER - VGU BY NIGHT\"\n",
    "msg[\"From\"] = \"VGU PR and Event Team\"\n",
    "msg[\"To\"] = \"VGU By Night Participants\"\n",
    "# msg[\"Bcc\"] = \"10422021@student.vgu.edu.vn, fuisloy@gmail.com\"\n",
    "\n",
    "with open(\"./template/reminders.html\", \"r\") as f:\n",
    "    content = f.read()\n",
    "    msg.attach(MIMEText(content, \"html\"))\n",
    "\n",
    "send_msg = msg.as_string()\n",
    "\n",
    "file = open(\"./emails.txt\", \"r\")\n",
    "data = file.read()\n",
    "data_list = data.split(\"\\n\")\n",
    "file.close()\n",
    "\n",
    "server.sendmail(\"\", data_list, send_msg)\n"
   ]
  },
  {
   "cell_type": "code",
   "execution_count": null,
   "metadata": {},
   "outputs": [],
   "source": [
    "file = open(\"./emails.txt\", \"r\")\n",
    "data = file.read()\n",
    "data_list = data.split(\"\\n\")\n",
    "print(data_list)\n",
    "file.close()"
   ]
  },
  {
   "cell_type": "code",
   "execution_count": null,
   "metadata": {},
   "outputs": [],
   "source": []
  }
 ],
 "metadata": {
  "kernelspec": {
   "display_name": "checkin",
   "language": "python",
   "name": "python3"
  },
  "language_info": {
   "codemirror_mode": {
    "name": "ipython",
    "version": 3
   },
   "file_extension": ".py",
   "mimetype": "text/x-python",
   "name": "python",
   "nbconvert_exporter": "python",
   "pygments_lexer": "ipython3",
   "version": "3.9.18"
  }
 },
 "nbformat": 4,
 "nbformat_minor": 2
}
