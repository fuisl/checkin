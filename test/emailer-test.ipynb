{
 "cells": [
  {
   "cell_type": "code",
   "execution_count": 8,
   "metadata": {},
   "outputs": [],
   "source": [
    "from emailer import Emailer\n",
    "import os\n",
    "\n",
    "emailer = Emailer(template=\"./template/ied23.html\", qr_path=\"./qrcodes/\")\n",
    "passkey = os.getenv(\"MAIL_PASSKEY\")\n",
    "emailer.login(\"presto@vgu.edu.vn\", passkey, test_email=\"10422021@student.vgu.edu.vn\")"
   ]
  }
 ],
 "metadata": {
  "kernelspec": {
   "display_name": "checkin",
   "language": "python",
   "name": "python3"
  },
  "language_info": {
   "codemirror_mode": {
    "name": "ipython",
    "version": 3
   },
   "file_extension": ".py",
   "mimetype": "text/x-python",
   "name": "python",
   "nbconvert_exporter": "python",
   "pygments_lexer": "ipython3",
   "version": "3.9.18"
  }
 },
 "nbformat": 4,
 "nbformat_minor": 2
}
