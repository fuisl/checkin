{
 "cells": [
  {
   "cell_type": "markdown",
   "metadata": {},
   "source": [
    "# Ticket generation"
   ]
  },
  {
   "cell_type": "code",
   "execution_count": 2,
   "metadata": {},
   "outputs": [
    {
     "name": "stdout",
     "output_type": "stream",
     "text": [
      "230 code(s) created successfully!\n"
     ]
    }
   ],
   "source": [
    "from gen import Gen\n",
    "\n",
    "ticket_info = {\n",
    "    'svip': 14,\n",
    "    'vip': 32,\n",
    "    'norm_center': 66,\n",
    "    'norm_rear': 98\n",
    "}\n",
    "\n",
    "codes = Gen('checkin_presto').gen(230)\n",
    "spare_codes = codes[-20:]\n",
    "main_codes = codes[:-20]"
   ]
  },
  {
   "cell_type": "code",
   "execution_count": 10,
   "metadata": {},
   "outputs": [],
   "source": [
    "from database import GenerateTicketInfo\n",
    "\n",
    "tickets = GenerateTicketInfo(ticket_info=ticket_info, codes=main_codes)\n",
    "database_formatted_tickets = tickets.generate_tickets()\n",
    "database_formatted_tickets_spare = []\n",
    "\n",
    "for code in spare_codes:\n",
    "    ticket = {\n",
    "        \"_id\": code,\n",
    "        \"class\": \"\",\n",
    "        \"seat\": \"\",\n",
    "        \"is_bought\": False\n",
    "    }\n",
    "\n",
    "    database_formatted_tickets_spare.append(ticket)"
   ]
  },
  {
   "cell_type": "code",
   "execution_count": 20,
   "metadata": {},
   "outputs": [],
   "source": [
    "import pandas as pd\n",
    "\n",
    "df = pd.DataFrame(database_formatted_tickets + database_formatted_tickets_spare)\n",
    "df.to_csv('official_ticket_info_phase_1.csv')"
   ]
  },
  {
   "cell_type": "markdown",
   "metadata": {},
   "source": [
    "# Add data from csv"
   ]
  },
  {
   "cell_type": "code",
   "execution_count": 29,
   "metadata": {},
   "outputs": [
    {
     "data": {
      "text/html": [
       "<div>\n",
       "<style scoped>\n",
       "    .dataframe tbody tr th:only-of-type {\n",
       "        vertical-align: middle;\n",
       "    }\n",
       "\n",
       "    .dataframe tbody tr th {\n",
       "        vertical-align: top;\n",
       "    }\n",
       "\n",
       "    .dataframe thead th {\n",
       "        text-align: right;\n",
       "    }\n",
       "</style>\n",
       "<table border=\"1\" class=\"dataframe\">\n",
       "  <thead>\n",
       "    <tr style=\"text-align: right;\">\n",
       "      <th></th>\n",
       "      <th>_id</th>\n",
       "      <th>class</th>\n",
       "      <th>seat</th>\n",
       "      <th>is_bought</th>\n",
       "    </tr>\n",
       "  </thead>\n",
       "  <tbody>\n",
       "    <tr>\n",
       "      <th>0</th>\n",
       "      <td>BNA0TX</td>\n",
       "      <td>SVIP</td>\n",
       "      <td>T1</td>\n",
       "      <td>False</td>\n",
       "    </tr>\n",
       "    <tr>\n",
       "      <th>1</th>\n",
       "      <td>2LYJXI</td>\n",
       "      <td>SVIP</td>\n",
       "      <td>T2</td>\n",
       "      <td>False</td>\n",
       "    </tr>\n",
       "    <tr>\n",
       "      <th>2</th>\n",
       "      <td>CH8IBU</td>\n",
       "      <td>SVIP</td>\n",
       "      <td>T3</td>\n",
       "      <td>False</td>\n",
       "    </tr>\n",
       "    <tr>\n",
       "      <th>3</th>\n",
       "      <td>5Z0VV4</td>\n",
       "      <td>SVIP</td>\n",
       "      <td>T4</td>\n",
       "      <td>False</td>\n",
       "    </tr>\n",
       "    <tr>\n",
       "      <th>4</th>\n",
       "      <td>4K0HI9</td>\n",
       "      <td>SVIP</td>\n",
       "      <td>T5</td>\n",
       "      <td>False</td>\n",
       "    </tr>\n",
       "    <tr>\n",
       "      <th>...</th>\n",
       "      <td>...</td>\n",
       "      <td>...</td>\n",
       "      <td>...</td>\n",
       "      <td>...</td>\n",
       "    </tr>\n",
       "    <tr>\n",
       "      <th>225</th>\n",
       "      <td>5O43WC</td>\n",
       "      <td>NaN</td>\n",
       "      <td>NaN</td>\n",
       "      <td>False</td>\n",
       "    </tr>\n",
       "    <tr>\n",
       "      <th>226</th>\n",
       "      <td>Y63RZK</td>\n",
       "      <td>NaN</td>\n",
       "      <td>NaN</td>\n",
       "      <td>False</td>\n",
       "    </tr>\n",
       "    <tr>\n",
       "      <th>227</th>\n",
       "      <td>BASR3V</td>\n",
       "      <td>NaN</td>\n",
       "      <td>NaN</td>\n",
       "      <td>False</td>\n",
       "    </tr>\n",
       "    <tr>\n",
       "      <th>228</th>\n",
       "      <td>T7YOTO</td>\n",
       "      <td>NaN</td>\n",
       "      <td>NaN</td>\n",
       "      <td>False</td>\n",
       "    </tr>\n",
       "    <tr>\n",
       "      <th>229</th>\n",
       "      <td>1BAOYQ</td>\n",
       "      <td>NaN</td>\n",
       "      <td>NaN</td>\n",
       "      <td>False</td>\n",
       "    </tr>\n",
       "  </tbody>\n",
       "</table>\n",
       "<p>230 rows × 4 columns</p>\n",
       "</div>"
      ],
      "text/plain": [
       "        _id class seat  is_bought\n",
       "0    BNA0TX  SVIP   T1      False\n",
       "1    2LYJXI  SVIP   T2      False\n",
       "2    CH8IBU  SVIP   T3      False\n",
       "3    5Z0VV4  SVIP   T4      False\n",
       "4    4K0HI9  SVIP   T5      False\n",
       "..      ...   ...  ...        ...\n",
       "225  5O43WC   NaN  NaN      False\n",
       "226  Y63RZK   NaN  NaN      False\n",
       "227  BASR3V   NaN  NaN      False\n",
       "228  T7YOTO   NaN  NaN      False\n",
       "229  1BAOYQ   NaN  NaN      False\n",
       "\n",
       "[230 rows x 4 columns]"
      ]
     },
     "execution_count": 29,
     "metadata": {},
     "output_type": "execute_result"
    }
   ],
   "source": [
    "import pandas as pd\n",
    "\n",
    "df = pd.read_csv(\"mail/official_ticket_info_phase_1.csv\", index_col=0)\n",
    "svip_seats = [f\"T{i}\" for i in range(1,15)]\n",
    "df.loc[df.loc[df['class'] == \"SVIP\"].index, 'seat'] = svip_seats\n",
    "df"
   ]
  },
  {
   "cell_type": "code",
   "execution_count": 30,
   "metadata": {},
   "outputs": [
    {
     "name": "stdout",
     "output_type": "stream",
     "text": [
      "Creating database with 230 tickets in 'tickets' collection.\n"
     ]
    }
   ],
   "source": [
    "from database import Database\n",
    "tickets_list = df.to_dict('records')\n",
    "\n",
    "db = Database(tickets_list)\n",
    "db.create_database()\n"
   ]
  }
 ],
 "metadata": {
  "kernelspec": {
   "display_name": "checkin",
   "language": "python",
   "name": "python3"
  },
  "language_info": {
   "codemirror_mode": {
    "name": "ipython",
    "version": 3
   },
   "file_extension": ".py",
   "mimetype": "text/x-python",
   "name": "python",
   "nbconvert_exporter": "python",
   "pygments_lexer": "ipython3",
   "version": "3.12.2"
  }
 },
 "nbformat": 4,
 "nbformat_minor": 2
}
