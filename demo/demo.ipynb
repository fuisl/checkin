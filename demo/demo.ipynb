{
 "cells": [
  {
   "cell_type": "code",
   "execution_count": 15,
   "metadata": {},
   "outputs": [],
   "source": [
    "import csv\n",
    "import numpy as np"
   ]
  },
  {
   "cell_type": "code",
   "execution_count": 5,
   "metadata": {},
   "outputs": [],
   "source": [
    "from typing import Any\n",
    "import pandas as pd\n",
    "from ticket.codegen import generate_ticket_code\n",
    "\n",
    "class Gen:\n",
    "    def __init__(self, event_code=None) -> None:\n",
    "        \"\"\"\n",
    "        Initialize Generator object.\n",
    "        \"\"\"\n",
    "        if event_code == None:  # set event_code if None\n",
    "            self.event_code = 'default'\n",
    "\n",
    "        # self.df = df_input\n",
    "        self.codes = []\n",
    "\n",
    "    def gen(self, n:int=1) -> list:\n",
    "        \"\"\"\n",
    "        Initialize and return a list of n number of code.\n",
    "        \"\"\"\n",
    "        # Generate codes and assign code to self.codes\n",
    "        self.codes = generate_ticket_code(n, seed=self.event_code)\n",
    "\n",
    "        return self.codes\n",
    "\n",
    "    def cut(self, n=1):\n",
    "        \"\"\"\n",
    "        Slice n code(s) and return new list\n",
    "        \"\"\"\n",
    "        raise NotImplementedError"
   ]
  },
  {
   "cell_type": "code",
   "execution_count": 23,
   "metadata": {},
   "outputs": [],
   "source": [
    "import random, string\n",
    "\n",
    "length = 6\n",
    "ticket_num = 20\n",
    "quantity = ticket_num\n",
    "standard_num = 12\n",
    "vip_num = 5\n",
    "wand_num = 3\n",
    "ticket_info = {\n",
    "    'STANDARD': standard_num,\n",
    "    'VIP': vip_num,\n",
    "    'WAENDERLUSTE': wand_num\n",
    "}\n",
    "\n",
    "if sum(ticket_info.values()) != quantity:\n",
    "    raise Exception('Quantity error!')\n",
    "\n",
    "\n",
    "#class field\n",
    "ticket_classes = []\n",
    "\n",
    "for ticket_class in ticket_info.keys():\n",
    "    num = ticket_info[ticket_class]\n",
    "    class_list = [ticket_class] * num\n",
    "    ticket_classes = ticket_classes + class_list\n",
    "\n",
    "tickets = list()  # Create an empty list for tickets\n",
    "random.seed('seed')\n",
    "characters = string.ascii_uppercase + string.digits\n",
    "\n",
    "for i in range(quantity):\n",
    "    ticket_code = ''.join(random.choice(characters) for _ in range(length))\n",
    "    tickets.append(ticket_code)\n",
    "\n",
    "result = list(zip(tickets, ticket_classes))\n"
   ]
  },
  {
   "cell_type": "code",
   "execution_count": 25,
   "metadata": {},
   "outputs": [],
   "source": [
    "#create data\n",
    "header = ['code', 'class']\n",
    "\n",
    "with open('code.csv', 'w') as f:\n",
    "    writer = csv.writer(f)\n",
    "    \n",
    "    writer.writerow(header)\n",
    "\n",
    "    for i in result:\n",
    "        writer.writerow(i)"
   ]
  },
  {
   "cell_type": "code",
   "execution_count": 29,
   "metadata": {},
   "outputs": [
    {
     "data": {
      "text/html": [
       "<div>\n",
       "<style scoped>\n",
       "    .dataframe tbody tr th:only-of-type {\n",
       "        vertical-align: middle;\n",
       "    }\n",
       "\n",
       "    .dataframe tbody tr th {\n",
       "        vertical-align: top;\n",
       "    }\n",
       "\n",
       "    .dataframe thead th {\n",
       "        text-align: right;\n",
       "    }\n",
       "</style>\n",
       "<table border=\"1\" class=\"dataframe\">\n",
       "  <thead>\n",
       "    <tr style=\"text-align: right;\">\n",
       "      <th></th>\n",
       "      <th>code</th>\n",
       "      <th>class</th>\n",
       "    </tr>\n",
       "  </thead>\n",
       "  <tbody>\n",
       "    <tr>\n",
       "      <th>0</th>\n",
       "      <td>IDPWS5</td>\n",
       "      <td>STANDARD</td>\n",
       "    </tr>\n",
       "    <tr>\n",
       "      <th>1</th>\n",
       "      <td>CV7700</td>\n",
       "      <td>STANDARD</td>\n",
       "    </tr>\n",
       "    <tr>\n",
       "      <th>2</th>\n",
       "      <td>4F0CNM</td>\n",
       "      <td>STANDARD</td>\n",
       "    </tr>\n",
       "    <tr>\n",
       "      <th>3</th>\n",
       "      <td>CS2OFL</td>\n",
       "      <td>STANDARD</td>\n",
       "    </tr>\n",
       "    <tr>\n",
       "      <th>4</th>\n",
       "      <td>Y84EW1</td>\n",
       "      <td>STANDARD</td>\n",
       "    </tr>\n",
       "  </tbody>\n",
       "</table>\n",
       "</div>"
      ],
      "text/plain": [
       "     code     class\n",
       "0  IDPWS5  STANDARD\n",
       "1  CV7700  STANDARD\n",
       "2  4F0CNM  STANDARD\n",
       "3  CS2OFL  STANDARD\n",
       "4  Y84EW1  STANDARD"
      ]
     },
     "execution_count": 29,
     "metadata": {},
     "output_type": "execute_result"
    }
   ],
   "source": [
    "import pandas as pd\n",
    "\n",
    "df = pd.read_csv('code.csv', header=0)\n",
    "df.head()"
   ]
  }
 ],
 "metadata": {
  "kernelspec": {
   "display_name": "checker",
   "language": "python",
   "name": "python3"
  },
  "language_info": {
   "codemirror_mode": {
    "name": "ipython",
    "version": 3
   },
   "file_extension": ".py",
   "mimetype": "text/x-python",
   "name": "python",
   "nbconvert_exporter": "python",
   "pygments_lexer": "ipython3",
   "version": "3.11.4"
  },
  "orig_nbformat": 4
 },
 "nbformat": 4,
 "nbformat_minor": 2
}
