{
 "cells": [
  {
   "cell_type": "code",
   "execution_count": 17,
   "metadata": {},
   "outputs": [],
   "source": [
    "from detect import *\n",
    "\n",
    "import pandas as pd\n",
    "import numpy as np\n",
    "\n",
    "import gspread\n",
    "from oauth2client.service_account import ServiceAccountCredentials"
   ]
  },
  {
   "cell_type": "code",
   "execution_count": 18,
   "metadata": {},
   "outputs": [],
   "source": [
    "credentials = ServiceAccountCredentials.from_json_keyfile_name(\"check-in-1111-48183fdcf068.json\", ['https://www.googleapis.com/auth/spreadsheets'])\n",
    "\n",
    "client = gspread.authorize(credentials)\n",
    "\n",
    "spreadsheet = client.open_by_url(\"https://docs.google.com/spreadsheets/d/1VBsE0rPQ91MBy04KlrfJl3bkPVlgkqV3wtxOFkikCaI/edit#gid=1778963550\")"
   ]
  },
  {
   "cell_type": "code",
   "execution_count": 19,
   "metadata": {},
   "outputs": [],
   "source": [
    "ws = spreadsheet.worksheet('sheet2')"
   ]
  },
  {
   "cell_type": "code",
   "execution_count": 20,
   "metadata": {},
   "outputs": [
    {
     "data": {
      "text/html": [
       "<div>\n",
       "<style scoped>\n",
       "    .dataframe tbody tr th:only-of-type {\n",
       "        vertical-align: middle;\n",
       "    }\n",
       "\n",
       "    .dataframe tbody tr th {\n",
       "        vertical-align: top;\n",
       "    }\n",
       "\n",
       "    .dataframe thead th {\n",
       "        text-align: right;\n",
       "    }\n",
       "</style>\n",
       "<table border=\"1\" class=\"dataframe\">\n",
       "  <thead>\n",
       "    <tr style=\"text-align: right;\">\n",
       "      <th></th>\n",
       "      <th>id</th>\n",
       "      <th>name</th>\n",
       "      <th>codes</th>\n",
       "    </tr>\n",
       "  </thead>\n",
       "  <tbody>\n",
       "    <tr>\n",
       "      <th>0</th>\n",
       "      <td>10422021</td>\n",
       "      <td>Trần Hải Dương</td>\n",
       "      <td>4RR2YT</td>\n",
       "    </tr>\n",
       "    <tr>\n",
       "      <th>1</th>\n",
       "      <td>10422021</td>\n",
       "      <td>Trần Hải Dương</td>\n",
       "      <td>A8YQJD</td>\n",
       "    </tr>\n",
       "    <tr>\n",
       "      <th>2</th>\n",
       "      <td>10422022</td>\n",
       "      <td>Nguyễn Thị Minh Châu</td>\n",
       "      <td>GU2AZR</td>\n",
       "    </tr>\n",
       "    <tr>\n",
       "      <th>3</th>\n",
       "      <td>10422022</td>\n",
       "      <td>Nguyễn Thị Minh Châu</td>\n",
       "      <td>YKFFRB</td>\n",
       "    </tr>\n",
       "    <tr>\n",
       "      <th>4</th>\n",
       "      <td>10422022</td>\n",
       "      <td>Nguyễn Thị Minh Châu</td>\n",
       "      <td>3Q2AAY</td>\n",
       "    </tr>\n",
       "  </tbody>\n",
       "</table>\n",
       "</div>"
      ],
      "text/plain": [
       "         id                  name   codes\n",
       "0  10422021        Trần Hải Dương  4RR2YT\n",
       "1  10422021        Trần Hải Dương  A8YQJD\n",
       "2  10422022  Nguyễn Thị Minh Châu  GU2AZR\n",
       "3  10422022  Nguyễn Thị Minh Châu  YKFFRB\n",
       "4  10422022  Nguyễn Thị Minh Châu  3Q2AAY"
      ]
     },
     "execution_count": 20,
     "metadata": {},
     "output_type": "execute_result"
    }
   ],
   "source": [
    "# Fetch data from sheet\n",
    "\n",
    "list_of_dict = ws.get_all_records()\n",
    "\n",
    "df = pd.DataFrame(list_of_dict)\n",
    "df.head()"
   ]
  },
  {
   "cell_type": "code",
   "execution_count": 21,
   "metadata": {},
   "outputs": [
    {
     "name": "stdout",
     "output_type": "stream",
     "text": [
      "Creating new sheet unsuccessful. Sheet might be existed\n"
     ]
    }
   ],
   "source": [
    "try:\n",
    "    spreadsheet.add_worksheet(title=\"sheet2\", rows=1000, cols=20)\n",
    "except:\n",
    "    print(\"Creating new sheet unsuccessful. Sheet might be existed\")"
   ]
  },
  {
   "cell_type": "code",
   "execution_count": 22,
   "metadata": {},
   "outputs": [
    {
     "data": {
      "text/html": [
       "<div>\n",
       "<style scoped>\n",
       "    .dataframe tbody tr th:only-of-type {\n",
       "        vertical-align: middle;\n",
       "    }\n",
       "\n",
       "    .dataframe tbody tr th {\n",
       "        vertical-align: top;\n",
       "    }\n",
       "\n",
       "    .dataframe thead th {\n",
       "        text-align: right;\n",
       "    }\n",
       "</style>\n",
       "<table border=\"1\" class=\"dataframe\">\n",
       "  <thead>\n",
       "    <tr style=\"text-align: right;\">\n",
       "      <th></th>\n",
       "      <th>id</th>\n",
       "      <th>name</th>\n",
       "      <th>codes</th>\n",
       "    </tr>\n",
       "  </thead>\n",
       "  <tbody>\n",
       "    <tr>\n",
       "      <th>0</th>\n",
       "      <td>10422021</td>\n",
       "      <td>Trần Hải Dương</td>\n",
       "      <td>4RR2YT</td>\n",
       "    </tr>\n",
       "    <tr>\n",
       "      <th>1</th>\n",
       "      <td>10422021</td>\n",
       "      <td>Trần Hải Dương</td>\n",
       "      <td>A8YQJD</td>\n",
       "    </tr>\n",
       "    <tr>\n",
       "      <th>2</th>\n",
       "      <td>10422022</td>\n",
       "      <td>Nguyễn Thị Minh Châu</td>\n",
       "      <td>GU2AZR</td>\n",
       "    </tr>\n",
       "    <tr>\n",
       "      <th>3</th>\n",
       "      <td>10422022</td>\n",
       "      <td>Nguyễn Thị Minh Châu</td>\n",
       "      <td>YKFFRB</td>\n",
       "    </tr>\n",
       "    <tr>\n",
       "      <th>4</th>\n",
       "      <td>10422022</td>\n",
       "      <td>Nguyễn Thị Minh Châu</td>\n",
       "      <td>3Q2AAY</td>\n",
       "    </tr>\n",
       "  </tbody>\n",
       "</table>\n",
       "</div>"
      ],
      "text/plain": [
       "         id                  name   codes\n",
       "0  10422021        Trần Hải Dương  4RR2YT\n",
       "1  10422021        Trần Hải Dương  A8YQJD\n",
       "2  10422022  Nguyễn Thị Minh Châu  GU2AZR\n",
       "3  10422022  Nguyễn Thị Minh Châu  YKFFRB\n",
       "4  10422022  Nguyễn Thị Minh Châu  3Q2AAY"
      ]
     },
     "execution_count": 22,
     "metadata": {},
     "output_type": "execute_result"
    }
   ],
   "source": [
    "# Import _code_exploded.csv\n",
    "\n",
    "df = pd.read_csv(\"./test/code_exploded.csv\", index_col=0)\n",
    "df.head()"
   ]
  },
  {
   "cell_type": "code",
   "execution_count": 47,
   "metadata": {},
   "outputs": [
    {
     "data": {
      "text/plain": [
       "0      4RR2YT\n",
       "1      A8YQJD\n",
       "2      GU2AZR\n",
       "3      YKFFRB\n",
       "4      3Q2AAY\n",
       "        ...  \n",
       "268    S7G2E2\n",
       "269    MKTG02\n",
       "270    87Q34B\n",
       "271    Z9GO9O\n",
       "272    UU34Z1\n",
       "Name: codes, Length: 273, dtype: object"
      ]
     },
     "execution_count": 47,
     "metadata": {},
     "output_type": "execute_result"
    }
   ],
   "source": [
    "code = 'A8YQJD'\n",
    "\n",
    "df['codes']"
   ]
  },
  {
   "cell_type": "code",
   "execution_count": 24,
   "metadata": {},
   "outputs": [],
   "source": [
    "# Convert to list of lists to import\n",
    "my_list = list()\n",
    "columns = list(df.columns)\n",
    "\n",
    "my_list = df.values.tolist()\n",
    "\n",
    "my_list.insert(0, columns)\n",
    "# my_list = df.values.tolist()"
   ]
  },
  {
   "cell_type": "code",
   "execution_count": null,
   "metadata": {},
   "outputs": [],
   "source": [
    "ws.update('A1',my_list)"
   ]
  },
  {
   "cell_type": "code",
   "execution_count": 51,
   "metadata": {},
   "outputs": [
    {
     "data": {
      "text/plain": [
       "1"
      ]
     },
     "execution_count": 51,
     "metadata": {},
     "output_type": "execute_result"
    }
   ],
   "source": [
    "df[df['codes'] == code].index.values[0]"
   ]
  },
  {
   "cell_type": "code",
   "execution_count": 52,
   "metadata": {},
   "outputs": [
    {
     "name": "stderr",
     "output_type": "stream",
     "text": [
      "C:\\Users\\fuisl\\AppData\\Roaming\\Python\\Python311\\site-packages\\gspread\\worksheet.py:1046: UserWarning: [Deprecated][in version 6.0.0]: method signature will change to: 'Worksheet.update(value = [[]], range_name=)' arguments 'range_name' and 'values' will swap, values will be mandatory of type: 'list(list(...))'\n",
      "  warnings.warn(\n"
     ]
    }
   ],
   "source": [
    "if code in df['codes'].values:\n",
    "    cell = 'D'+ str(df[df['codes'] == code].index.values[0] + 2)\n",
    "    val = 'Checked in'\n",
    "    ws.update(cell, val)"
   ]
  }
 ],
 "metadata": {
  "kernelspec": {
   "display_name": "Python 3",
   "language": "python",
   "name": "python3"
  },
  "language_info": {
   "codemirror_mode": {
    "name": "ipython",
    "version": 3
   },
   "file_extension": ".py",
   "mimetype": "text/x-python",
   "name": "python",
   "nbconvert_exporter": "python",
   "pygments_lexer": "ipython3",
   "version": "3.11.0"
  },
  "orig_nbformat": 4
 },
 "nbformat": 4,
 "nbformat_minor": 2
}
