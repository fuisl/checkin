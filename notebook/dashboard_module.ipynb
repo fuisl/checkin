{
 "cells": [
  {
   "cell_type": "code",
   "execution_count": 2,
   "metadata": {},
   "outputs": [],
   "source": [
    "import requests\n",
    "from Adafruit_IO import Client, Feed\n",
    "\n",
    "# Replace these with your Adafruit IO username and AIO Key\n",
    "USERNAME = \"Nhakhoa02\"\n",
    "AIO_KEY = \"aio_dIjw09n23GGeAbaA95eYoSeh2Qqw\"\n",
    "DASHBOARD_ID = \"707765\"\n",
    "\n",
    "aio = Client(USERNAME, AIO_KEY)"
   ]
  },
  {
   "cell_type": "code",
   "execution_count": 3,
   "metadata": {},
   "outputs": [
    {
     "name": "stdout",
     "output_type": "stream",
     "text": [
      "List of Dashboards:\n",
      "Dashboard ID: 707765, Name: Ticket Dashboard\n",
      "Dashboard ID: 701099, Name: Welcome Dashboard\n",
      "Dashboard ID: 701907, Name: project\n",
      "Dashboard ID: 707757, Name: My Dashboard\n"
     ]
    }
   ],
   "source": [
    "#return all dashboard_id\n",
    "\n",
    "# API endpoint URL for listing dashboards\n",
    "url = f\"https://io.adafruit.com/api/v2/{USERNAME}/dashboards\"\n",
    "\n",
    "headers = {\n",
    "    \"X-AIO-Key\": AIO_KEY\n",
    "}\n",
    "\n",
    "try:\n",
    "    response = requests.get(url, headers=headers)\n",
    "\n",
    "    if response.status_code == 200:\n",
    "        dashboard_list = response.json()\n",
    "        print(\"List of Dashboards:\")\n",
    "        for dashboard in dashboard_list:\n",
    "            print(f\"Dashboard ID: {dashboard['id']}, Name: {dashboard['name']}\")\n",
    "    else:\n",
    "        print(f\"Failed to retrieve dashboard list. Status code: {response.status_code}\")\n",
    "        print(response.json())\n",
    "\n",
    "except requests.exceptions.RequestException as e:\n",
    "    print(\"Error making the request:\", e)\n"
   ]
  },
  {
   "cell_type": "code",
   "execution_count": null,
   "metadata": {},
   "outputs": [],
   "source": [
    "#Creating new feed\n",
    "# Define the name of the new feed\n",
    "new_feed_name = 'Registration'\n",
    "\n",
    "# Create a new feed with the given name\n",
    "new_feed = Feed(name=new_feed_name)\n",
    "created_feed = aio.create_feed(new_feed)\n",
    "\n",
    "# Print the details of the newly created feed\n",
    "print(created_feed)\n"
   ]
  },
  {
   "cell_type": "code",
   "execution_count": null,
   "metadata": {},
   "outputs": [],
   "source": [
    "#Create new dashboard\n",
    "# API endpoint URL\n",
    "url = f\"https://io.adafruit.com/api/v2/{USERNAME}/dashboards\"\n",
    "\n",
    "# Dashboard data (modify as needed)\n",
    "dashboard_data = {\n",
    "    \"name\": \"Ticket Dashboard\",\n",
    "    \"description\": \"This is a sample dashboard created using Python\",\n",
    "    \"key\": \"ticket\",\n",
    "    \"blocks\": [\n",
    "        {\n",
    "            \"name\": \"Block 1\",\n",
    "            \"description\": \"This is Block 1\",\n",
    "            \"key\": \"block_1_key\",\n",
    "            \"visual_type\": \"chart\",\n",
    "            \"column\": 0,\n",
    "            \"row\": 0,\n",
    "            \"size_x\": 4,\n",
    "            \"size_y\": 3,\n",
    "            \"block_feeds\": [\n",
    "                {\n",
    "                    \"id\": \"block_feed_1\",\n",
    "                    \"feed\": None,\n",
    "                    \"group\": None\n",
    "                }\n",
    "            ]\n",
    "        },\n",
    "        # Add more blocks here if needed\n",
    "    ]\n",
    "}\n",
    "\n",
    "headers = {\n",
    "    \"X-AIO-Key\": AIO_KEY,\n",
    "    \"Content-Type\": \"application/json\"\n",
    "}\n",
    "\n",
    "try:\n",
    "    response = requests.post(url, json=dashboard_data, headers=headers)\n",
    "\n",
    "    if response.status_code == 200:\n",
    "        print(\"Dashboard created successfully!\")\n",
    "        print(response.json())\n",
    "    else:\n",
    "        print(f\"Failed to create dashboard. Status code: {response.status_code}\")\n",
    "        print(response.json())\n",
    "\n",
    "except requests.exceptions.RequestException as e:\n",
    "    print(\"Error making the request:\", e)"
   ]
  },
  {
   "cell_type": "code",
   "execution_count": 12,
   "metadata": {},
   "outputs": [
    {
     "name": "stdout",
     "output_type": "stream",
     "text": [
      "Participant data recorded successfully!\n",
      "Participant data recorded successfully!\n",
      "Participant data recorded successfully!\n"
     ]
    }
   ],
   "source": [
    "#send data\n",
    "import json\n",
    "\n",
    "def record_registration_data():\n",
    "    n = 0\n",
    "    while n < 10:\n",
    "        # Get participant information from user input\n",
    "        participant_name = input(\"Enter participant name: \")\n",
    "        participant_email = input(\"Enter participant email: \")\n",
    "        participant_age = int(input(\"Enter participant age: \"))\n",
    "\n",
    "        # Create a dictionary with the participant data\n",
    "        participant_data = {\n",
    "            \"name\": participant_name,\n",
    "            \"email\": participant_email,\n",
    "            \"age\": participant_age\n",
    "            # Add more participant data as needed\n",
    "        }\n",
    "\n",
    "        # Convert the participant_data to JSON format\n",
    "        participant_json = json.dumps(participant_data)\n",
    "\n",
    "        # Send the JSON data to the \"Registration\" feed\n",
    "        aio.send_data('project', participant_json)\n",
    "\n",
    "        print(\"Participant data recorded successfully!\")\n",
    "        n += 1\n",
    "        time.sleep(1)\n",
    "\n",
    "record_registration_data()"
   ]
  },
  {
   "cell_type": "code",
   "execution_count": 25,
   "metadata": {},
   "outputs": [
    {
     "name": "stdout",
     "output_type": "stream",
     "text": [
      "Feed Key: welcome-feed, Feed Name: Welcome Feed\n",
      "Feed Key: equation, Feed Name: equation\n",
      "Feed Key: sensor1, Feed Name: sensor1\n",
      "Feed Key: project, Feed Name: project\n",
      "Feed Key: registration, Feed Name: Registration\n"
     ]
    }
   ],
   "source": [
    "#get feed key\n",
    "\n",
    "def get_all_feeds():\n",
    "    # Retrieve information about all feeds\n",
    "    all_feeds = aio.feeds()\n",
    "\n",
    "    # Print the feed information\n",
    "    for feed in all_feeds:\n",
    "        print(f\"Feed Key: {feed.key}, Feed Name: {feed.name}\")\n",
    "\n",
    "get_all_feeds()"
   ]
  },
  {
   "cell_type": "code",
   "execution_count": 11,
   "metadata": {},
   "outputs": [
    {
     "name": "stdout",
     "output_type": "stream",
     "text": [
      "Participant registered successfully!\n",
      "Participant registered successfully!\n",
      "Participant registered successfully!\n",
      "Participant registered successfully!\n",
      "Participant registered successfully!\n",
      "Participant registered successfully!\n",
      "Participant registered successfully!\n",
      "Participant registered successfully!\n",
      "Participant registered successfully!\n",
      "Participant registered successfully!\n",
      "Participant registered successfully!\n",
      "Participant registered successfully!\n",
      "Participant registered successfully!\n",
      "Participant registered successfully!\n",
      "Participant registered successfully!\n",
      "Participant registered successfully!\n",
      "Participant registered successfully!\n",
      "Participant registered successfully!\n",
      "Participant registered successfully!\n",
      "Participant registered successfully!\n",
      "Participant registered successfully!\n",
      "Participant registered successfully!\n",
      "Participant registered successfully!\n",
      "Participant registered successfully!\n",
      "Participant registered successfully!\n",
      "Participant registered successfully!\n",
      "Participant registered successfully!\n",
      "Participant registered successfully!\n",
      "Participant registered successfully!\n"
     ]
    },
    {
     "ename": "ThrottlingError",
     "evalue": "Exceeded the limit of Adafruit IO requests in a short period of time. Please reduce the rate of requests and try again later.",
     "output_type": "error",
     "traceback": [
      "\u001b[1;31m---------------------------------------------------------------------------\u001b[0m",
      "\u001b[1;31mThrottlingError\u001b[0m                           Traceback (most recent call last)",
      "Cell \u001b[1;32mIn[11], line 28\u001b[0m\n\u001b[0;32m     24\u001b[0m         time\u001b[39m.\u001b[39msleep(\u001b[39m1\u001b[39m)\n\u001b[0;32m     26\u001b[0m         \u001b[39mprint\u001b[39m(\u001b[39m\"\u001b[39m\u001b[39mParticipant registered successfully!\u001b[39m\u001b[39m\"\u001b[39m)\n\u001b[1;32m---> 28\u001b[0m update_participant_count()\n",
      "Cell \u001b[1;32mIn[11], line 22\u001b[0m, in \u001b[0;36mupdate_participant_count\u001b[1;34m()\u001b[0m\n\u001b[0;32m     16\u001b[0m \u001b[39mwhile\u001b[39;00m \u001b[39mTrue\u001b[39;00m:\n\u001b[0;32m     17\u001b[0m \n\u001b[0;32m     18\u001b[0m     \u001b[39m# Get participant information from user input\u001b[39;00m\n\u001b[0;32m     20\u001b[0m     data \u001b[39m=\u001b[39m random\u001b[39m.\u001b[39mrandint(\u001b[39m0\u001b[39m, \u001b[39m100\u001b[39m)\n\u001b[1;32m---> 22\u001b[0m     aio\u001b[39m.\u001b[39;49msend_data(participant_count_feed_name, \u001b[39mint\u001b[39;49m(data))\n\u001b[0;32m     24\u001b[0m     time\u001b[39m.\u001b[39msleep(\u001b[39m1\u001b[39m)\n\u001b[0;32m     26\u001b[0m     \u001b[39mprint\u001b[39m(\u001b[39m\"\u001b[39m\u001b[39mParticipant registered successfully!\u001b[39m\u001b[39m\"\u001b[39m)\n",
      "File \u001b[1;32mc:\\Python311\\Lib\\site-packages\\Adafruit_IO\\client.py:167\u001b[0m, in \u001b[0;36mClient.send_data\u001b[1;34m(self, feed, value, metadata, precision)\u001b[0m\n\u001b[0;32m    165\u001b[0m         \u001b[39mraise\u001b[39;00m \u001b[39mNotImplementedError\u001b[39;00m(\u001b[39m\"\u001b[39m\u001b[39mUsing the precision kwarg requires a float value\u001b[39m\u001b[39m\"\u001b[39m)\n\u001b[0;32m    166\u001b[0m payload \u001b[39m=\u001b[39m \u001b[39mself\u001b[39m\u001b[39m.\u001b[39m_create_payload(value, metadata)\n\u001b[1;32m--> 167\u001b[0m \u001b[39mreturn\u001b[39;00m \u001b[39mself\u001b[39;49m\u001b[39m.\u001b[39;49mcreate_data(feed, payload)\n",
      "File \u001b[1;32mc:\\Python311\\Lib\\site-packages\\Adafruit_IO\\client.py:313\u001b[0m, in \u001b[0;36mClient.create_data\u001b[1;34m(self, feed, data)\u001b[0m\n\u001b[0;32m    306\u001b[0m \u001b[39m\u001b[39m\u001b[39m\"\"\"Create a new row of data in the specified feed.\u001b[39;00m\n\u001b[0;32m    307\u001b[0m \u001b[39mReturns a Data instance with details about the newly\u001b[39;00m\n\u001b[0;32m    308\u001b[0m \u001b[39mappended row of data.\u001b[39;00m\n\u001b[0;32m    309\u001b[0m \u001b[39m:param string feed: Name/Key/ID of Adafruit IO feed.\u001b[39;00m\n\u001b[0;32m    310\u001b[0m \u001b[39m:param Data data: Instance of the Data class. Must have a value property set.\u001b[39;00m\n\u001b[0;32m    311\u001b[0m \u001b[39m\"\"\"\u001b[39;00m\n\u001b[0;32m    312\u001b[0m path \u001b[39m=\u001b[39m \u001b[39m\"\u001b[39m\u001b[39mfeeds/\u001b[39m\u001b[39m{0}\u001b[39;00m\u001b[39m/data\u001b[39m\u001b[39m\"\u001b[39m\u001b[39m.\u001b[39mformat(feed)\n\u001b[1;32m--> 313\u001b[0m \u001b[39mreturn\u001b[39;00m Data\u001b[39m.\u001b[39mfrom_dict(\u001b[39mself\u001b[39;49m\u001b[39m.\u001b[39;49m_post(path, data\u001b[39m.\u001b[39;49m_asdict()))\n",
      "File \u001b[1;32mc:\\Python311\\Lib\\site-packages\\Adafruit_IO\\client.py:139\u001b[0m, in \u001b[0;36mClient._post\u001b[1;34m(self, path, data)\u001b[0m\n\u001b[0;32m    133\u001b[0m response \u001b[39m=\u001b[39m requests\u001b[39m.\u001b[39mpost(\u001b[39mself\u001b[39m\u001b[39m.\u001b[39m_compose_url(path),\n\u001b[0;32m    134\u001b[0m                          headers\u001b[39m=\u001b[39m\u001b[39mself\u001b[39m\u001b[39m.\u001b[39m_headers({\u001b[39m'\u001b[39m\u001b[39mX-AIO-Key\u001b[39m\u001b[39m'\u001b[39m: \u001b[39mself\u001b[39m\u001b[39m.\u001b[39mkey,\n\u001b[0;32m    135\u001b[0m                                                 \u001b[39m'\u001b[39m\u001b[39mContent-Type\u001b[39m\u001b[39m'\u001b[39m: \u001b[39m'\u001b[39m\u001b[39mapplication/json\u001b[39m\u001b[39m'\u001b[39m}),\n\u001b[0;32m    136\u001b[0m                          proxies\u001b[39m=\u001b[39m\u001b[39mself\u001b[39m\u001b[39m.\u001b[39mproxies,\n\u001b[0;32m    137\u001b[0m                          data\u001b[39m=\u001b[39mjson\u001b[39m.\u001b[39mdumps(data))\n\u001b[0;32m    138\u001b[0m \u001b[39mself\u001b[39m\u001b[39m.\u001b[39m_last_response \u001b[39m=\u001b[39m response\n\u001b[1;32m--> 139\u001b[0m \u001b[39mself\u001b[39;49m\u001b[39m.\u001b[39;49m_handle_error(response)\n\u001b[0;32m    140\u001b[0m \u001b[39mreturn\u001b[39;00m response\u001b[39m.\u001b[39mjson()\n",
      "File \u001b[1;32mc:\\Python311\\Lib\\site-packages\\Adafruit_IO\\client.py:111\u001b[0m, in \u001b[0;36mClient._handle_error\u001b[1;34m(response)\u001b[0m\n\u001b[0;32m    107\u001b[0m \u001b[39m@staticmethod\u001b[39m\n\u001b[0;32m    108\u001b[0m \u001b[39mdef\u001b[39;00m \u001b[39m_handle_error\u001b[39m(response):\n\u001b[0;32m    109\u001b[0m     \u001b[39m# Throttling Error\u001b[39;00m\n\u001b[0;32m    110\u001b[0m     \u001b[39mif\u001b[39;00m response\u001b[39m.\u001b[39mstatus_code \u001b[39m==\u001b[39m \u001b[39m429\u001b[39m:\n\u001b[1;32m--> 111\u001b[0m         \u001b[39mraise\u001b[39;00m ThrottlingError()\n\u001b[0;32m    112\u001b[0m     \u001b[39m# Resource on AdafruitIO not Found Error\u001b[39;00m\n\u001b[0;32m    113\u001b[0m     \u001b[39melif\u001b[39;00m response\u001b[39m.\u001b[39mstatus_code \u001b[39m==\u001b[39m \u001b[39m400\u001b[39m:\n",
      "\u001b[1;31mThrottlingError\u001b[0m: Exceeded the limit of Adafruit IO requests in a short period of time. Please reduce the rate of requests and try again later."
     ]
    }
   ],
   "source": [
    "#linegraph so nguoi tren phut\n",
    "\n",
    "import time\n",
    "from Adafruit_IO import Client, Feed\n",
    "from datetime import datetime, timedelta\n",
    "import random\n",
    "\n",
    "# Define the feed name to store the number of participants and the start time\n",
    "participant_count_feed_name = 'registration'\n",
    "start_time = datetime.now()\n",
    "\n",
    "\n",
    "\n",
    "def update_participant_count():\n",
    "    global start_time\n",
    "    default_data = 0\n",
    "\n",
    "    while True:\n",
    "\n",
    "        # Get participant information from user input\n",
    "        \n",
    "        data = random.randint(0, 100)\n",
    "\n",
    "        aio.send_data(participant_count_feed_name, int(data))\n",
    "\n",
    "        time.sleep(1)\n",
    "\n",
    "        print(\"Participant registered successfully!\")\n",
    "\n",
    "update_participant_count()"
   ]
  },
  {
   "cell_type": "code",
   "execution_count": 6,
   "metadata": {},
   "outputs": [
    {
     "name": "stdout",
     "output_type": "stream",
     "text": [
      "Participant registered successfully!\n",
      "Participant registered successfully!\n",
      "Participant registered successfully!\n",
      "Participant registered successfully!\n",
      "Participant registered successfully!\n",
      "Participant registered successfully!\n",
      "Participant registered successfully!\n",
      "Participant registered successfully!\n",
      "Participant registered successfully!\n",
      "Participant registered successfully!\n"
     ]
    },
    {
     "ename": "ThrottlingError",
     "evalue": "Exceeded the limit of Adafruit IO requests in a short period of time. Please reduce the rate of requests and try again later.",
     "output_type": "error",
     "traceback": [
      "\u001b[1;31m---------------------------------------------------------------------------\u001b[0m",
      "\u001b[1;31mThrottlingError\u001b[0m                           Traceback (most recent call last)",
      "Cell \u001b[1;32mIn[6], line 34\u001b[0m\n\u001b[0;32m     31\u001b[0m         aio\u001b[39m.\u001b[39msend_data(indicator_status_feed_name, \u001b[39mint\u001b[39m(\u001b[39m0\u001b[39m))\n\u001b[0;32m     33\u001b[0m \u001b[39mif\u001b[39;00m \u001b[39m__name__\u001b[39m \u001b[39m==\u001b[39m \u001b[39m'\u001b[39m\u001b[39m__main__\u001b[39m\u001b[39m'\u001b[39m:\n\u001b[1;32m---> 34\u001b[0m     update_participant_info()\n",
      "Cell \u001b[1;32mIn[6], line 25\u001b[0m, in \u001b[0;36mupdate_participant_info\u001b[1;34m()\u001b[0m\n\u001b[0;32m     23\u001b[0m \u001b[39m# Send the multiline data to the participant_info_feed\u001b[39;00m\n\u001b[0;32m     24\u001b[0m aio\u001b[39m.\u001b[39msend_data(participant_info_feed_name, \u001b[39m'\u001b[39m\u001b[39m \u001b[39m\u001b[39m'\u001b[39m\u001b[39m.\u001b[39mjoin(multiline_data))\n\u001b[1;32m---> 25\u001b[0m aio\u001b[39m.\u001b[39;49msend_data(indicator_status_feed_name, \u001b[39mint\u001b[39;49m(encoded_image))\n\u001b[0;32m     27\u001b[0m \u001b[39mprint\u001b[39m(\u001b[39m\"\u001b[39m\u001b[39mParticipant registered successfully!\u001b[39m\u001b[39m\"\u001b[39m)\n\u001b[0;32m     29\u001b[0m \u001b[39m# Wait for 1 second before registering the next participant\u001b[39;00m\n",
      "File \u001b[1;32mc:\\Python311\\Lib\\site-packages\\Adafruit_IO\\client.py:167\u001b[0m, in \u001b[0;36mClient.send_data\u001b[1;34m(self, feed, value, metadata, precision)\u001b[0m\n\u001b[0;32m    165\u001b[0m         \u001b[39mraise\u001b[39;00m \u001b[39mNotImplementedError\u001b[39;00m(\u001b[39m\"\u001b[39m\u001b[39mUsing the precision kwarg requires a float value\u001b[39m\u001b[39m\"\u001b[39m)\n\u001b[0;32m    166\u001b[0m payload \u001b[39m=\u001b[39m \u001b[39mself\u001b[39m\u001b[39m.\u001b[39m_create_payload(value, metadata)\n\u001b[1;32m--> 167\u001b[0m \u001b[39mreturn\u001b[39;00m \u001b[39mself\u001b[39;49m\u001b[39m.\u001b[39;49mcreate_data(feed, payload)\n",
      "File \u001b[1;32mc:\\Python311\\Lib\\site-packages\\Adafruit_IO\\client.py:313\u001b[0m, in \u001b[0;36mClient.create_data\u001b[1;34m(self, feed, data)\u001b[0m\n\u001b[0;32m    306\u001b[0m \u001b[39m\u001b[39m\u001b[39m\"\"\"Create a new row of data in the specified feed.\u001b[39;00m\n\u001b[0;32m    307\u001b[0m \u001b[39mReturns a Data instance with details about the newly\u001b[39;00m\n\u001b[0;32m    308\u001b[0m \u001b[39mappended row of data.\u001b[39;00m\n\u001b[0;32m    309\u001b[0m \u001b[39m:param string feed: Name/Key/ID of Adafruit IO feed.\u001b[39;00m\n\u001b[0;32m    310\u001b[0m \u001b[39m:param Data data: Instance of the Data class. Must have a value property set.\u001b[39;00m\n\u001b[0;32m    311\u001b[0m \u001b[39m\"\"\"\u001b[39;00m\n\u001b[0;32m    312\u001b[0m path \u001b[39m=\u001b[39m \u001b[39m\"\u001b[39m\u001b[39mfeeds/\u001b[39m\u001b[39m{0}\u001b[39;00m\u001b[39m/data\u001b[39m\u001b[39m\"\u001b[39m\u001b[39m.\u001b[39mformat(feed)\n\u001b[1;32m--> 313\u001b[0m \u001b[39mreturn\u001b[39;00m Data\u001b[39m.\u001b[39mfrom_dict(\u001b[39mself\u001b[39;49m\u001b[39m.\u001b[39;49m_post(path, data\u001b[39m.\u001b[39;49m_asdict()))\n",
      "File \u001b[1;32mc:\\Python311\\Lib\\site-packages\\Adafruit_IO\\client.py:139\u001b[0m, in \u001b[0;36mClient._post\u001b[1;34m(self, path, data)\u001b[0m\n\u001b[0;32m    133\u001b[0m response \u001b[39m=\u001b[39m requests\u001b[39m.\u001b[39mpost(\u001b[39mself\u001b[39m\u001b[39m.\u001b[39m_compose_url(path),\n\u001b[0;32m    134\u001b[0m                          headers\u001b[39m=\u001b[39m\u001b[39mself\u001b[39m\u001b[39m.\u001b[39m_headers({\u001b[39m'\u001b[39m\u001b[39mX-AIO-Key\u001b[39m\u001b[39m'\u001b[39m: \u001b[39mself\u001b[39m\u001b[39m.\u001b[39mkey,\n\u001b[0;32m    135\u001b[0m                                                 \u001b[39m'\u001b[39m\u001b[39mContent-Type\u001b[39m\u001b[39m'\u001b[39m: \u001b[39m'\u001b[39m\u001b[39mapplication/json\u001b[39m\u001b[39m'\u001b[39m}),\n\u001b[0;32m    136\u001b[0m                          proxies\u001b[39m=\u001b[39m\u001b[39mself\u001b[39m\u001b[39m.\u001b[39mproxies,\n\u001b[0;32m    137\u001b[0m                          data\u001b[39m=\u001b[39mjson\u001b[39m.\u001b[39mdumps(data))\n\u001b[0;32m    138\u001b[0m \u001b[39mself\u001b[39m\u001b[39m.\u001b[39m_last_response \u001b[39m=\u001b[39m response\n\u001b[1;32m--> 139\u001b[0m \u001b[39mself\u001b[39;49m\u001b[39m.\u001b[39;49m_handle_error(response)\n\u001b[0;32m    140\u001b[0m \u001b[39mreturn\u001b[39;00m response\u001b[39m.\u001b[39mjson()\n",
      "File \u001b[1;32mc:\\Python311\\Lib\\site-packages\\Adafruit_IO\\client.py:111\u001b[0m, in \u001b[0;36mClient._handle_error\u001b[1;34m(response)\u001b[0m\n\u001b[0;32m    107\u001b[0m \u001b[39m@staticmethod\u001b[39m\n\u001b[0;32m    108\u001b[0m \u001b[39mdef\u001b[39;00m \u001b[39m_handle_error\u001b[39m(response):\n\u001b[0;32m    109\u001b[0m     \u001b[39m# Throttling Error\u001b[39;00m\n\u001b[0;32m    110\u001b[0m     \u001b[39mif\u001b[39;00m response\u001b[39m.\u001b[39mstatus_code \u001b[39m==\u001b[39m \u001b[39m429\u001b[39m:\n\u001b[1;32m--> 111\u001b[0m         \u001b[39mraise\u001b[39;00m ThrottlingError()\n\u001b[0;32m    112\u001b[0m     \u001b[39m# Resource on AdafruitIO not Found Error\u001b[39;00m\n\u001b[0;32m    113\u001b[0m     \u001b[39melif\u001b[39;00m response\u001b[39m.\u001b[39mstatus_code \u001b[39m==\u001b[39m \u001b[39m400\u001b[39m:\n",
      "\u001b[1;31mThrottlingError\u001b[0m: Exceeded the limit of Adafruit IO requests in a short period of time. Please reduce the rate of requests and try again later."
     ]
    }
   ],
   "source": [
    "#camera processing\n",
    "#Receive input from camera\n",
    "\n",
    "import time\n",
    "from Adafruit_IO import Client, Feed\n",
    "from datetime import datetime, timedelta\n",
    "import random\n",
    "\n",
    "# Define the feed name to store the participant information\n",
    "participant_info_feed_name = 'project'\n",
    "indicator_status_feed_name = 'sensor1'\n",
    "\n",
    "data = ()\n",
    "encoded_image = 1111\n",
    "\n",
    "def update_participant_info():\n",
    "    while True:\n",
    "        # Generate random participant data\n",
    "        data = random.randint(0, 100)\n",
    "        name = 'Khoa'\n",
    "        code = '1234'\n",
    "\n",
    "        # Format the participant information as a list of strings\n",
    "        multiline_data = [f'Code: {code}', f'Name: {name}', f'Data: {data}']\n",
    "\n",
    "        # Send the multiline data to the participant_info_feed\n",
    "        aio.send_data(participant_info_feed_name, ' '.join(multiline_data))\n",
    "        aio.send_data(indicator_status_feed_name, int(encoded_image))\n",
    "\n",
    "        print(\"Participant registered successfully!\")\n",
    "\n",
    "        # Wait for 3 second before registering the next participant\n",
    "        time.sleep(3)\n",
    "        aio.send_data(indicator_status_feed_name, int(0))\n",
    "\n",
    "if __name__ == '__main__':\n",
    "    update_participant_info()\n"
   ]
  }
 ],
 "metadata": {
  "kernelspec": {
   "display_name": "Python 3",
   "language": "python",
   "name": "python3"
  },
  "language_info": {
   "codemirror_mode": {
    "name": "ipython",
    "version": 3
   },
   "file_extension": ".py",
   "mimetype": "text/x-python",
   "name": "python",
   "nbconvert_exporter": "python",
   "pygments_lexer": "ipython3",
   "version": "3.11.4"
  },
  "orig_nbformat": 4
 },
 "nbformat": 4,
 "nbformat_minor": 2
}
